{
  "nbformat": 4,
  "nbformat_minor": 0,
  "metadata": {
    "colab": {
      "provenance": []
    },
    "kernelspec": {
      "name": "python3",
      "display_name": "Python 3"
    },
    "language_info": {
      "name": "python"
    }
  },
  "cells": [
    {
      "cell_type": "markdown",
      "source": [
        "***Nombre: Karla Anahí Sánchez Morales***"
      ],
      "metadata": {
        "id": "ruG2kfvjg3oV"
      }
    },
    {
      "cell_type": "markdown",
      "source": [
        "# **PROBABILIDAD CLÁSICA.**"
      ],
      "metadata": {
        "id": "ds-OKH6YPozp"
      }
    },
    {
      "cell_type": "markdown",
      "source": [
        "**Conjunto:** Un conjunto es una colección bien definida de elementos o miebros"
      ],
      "metadata": {
        "id": "6bz244aSbLzG"
      }
    },
    {
      "cell_type": "markdown",
      "source": [
        "**Operaciones con conjuntos:**\n",
        "1. Unión de conjuntos:\n",
        "$$ A \\cup B = \\{ x \\mid x \\in A \\text{ ó } x \\in B \\} $$\n",
        "2. Intersección de conjuntos:\n",
        "$$ A \\cap B = \\{ x \\mid x \\in A \\text{ y } x \\in B \\} $$\n",
        "3. Complemento de un conjunto:\n",
        "$$ A^c = \\overline{A} = A' = \\{ x \\mid x \\in \\Omega \\text{ y } x \\notin A \\} $$\n",
        "4. A menos B:\n",
        "$$ A - B = A \\cap B^c $$"
      ],
      "metadata": {
        "id": "S0EIQNhvbywX"
      }
    },
    {
      "cell_type": "markdown",
      "source": [
        "$\\color{blue} {\\text {Ejemplo: }}$ Dados los siguientes conjuntos:\n",
        "$$ A=\\{2,4,6,8,10,12\\}, B=\\{ 4,8,12,16,20\\} $$\n",
        "Determinar:\n",
        "\n",
        "\n",
        "*   $A\\cup B$\n",
        "*   $A\\cap B$\n",
        "*   $A-B$\n",
        "\n",
        "\n"
      ],
      "metadata": {
        "id": "8c9MQzj7eUMX"
      }
    },
    {
      "cell_type": "markdown",
      "source": [
        "*Solución:*"
      ],
      "metadata": {
        "id": "lja1LT5wfsvU"
      }
    },
    {
      "cell_type": "code",
      "source": [
        "# Definimos los conjuntos A y B\n",
        "A = {2, 4, 6, 8, 10, 12}\n",
        "B = {4, 8, 12, 16, 20}\n",
        "\n",
        "# Calculamos la unión de A y B\n",
        "union_AB = A.union(B)\n",
        "print(f\"A ∪ B = {union_AB}\")\n",
        "\n",
        "# Calculamos la intersección de A y B\n",
        "interseccion_AB = A.intersection(B)\n",
        "print(f\"A ∩ B = {interseccion_AB}\")\n",
        "\n",
        "# Calculamos la diferencia de A menos B\n",
        "diferencia_AB = A.difference(B)\n",
        "print(f\"A - B = {diferencia_AB}\")"
      ],
      "metadata": {
        "colab": {
          "base_uri": "https://localhost:8080/"
        },
        "id": "u20JCiodfySN",
        "outputId": "9cbbec2f-53d3-4609-9c6a-1aabc40ea792"
      },
      "execution_count": null,
      "outputs": [
        {
          "output_type": "stream",
          "name": "stdout",
          "text": [
            "A ∪ B = {2, 4, 6, 8, 10, 12, 16, 20}\n",
            "A ∩ B = {8, 4, 12}\n",
            "A - B = {2, 10, 6}\n"
          ]
        }
      ]
    },
    {
      "cell_type": "markdown",
      "source": [
        "**Espacio muestral:** Sea $\\Omega$ un conjunto, decimos que $\\Omega$ es el espacio muestral de un experimento aleatorio si es el conjunto de todos los posibles resultados de dicho experimento, es decir:\n",
        "$$ \\Omega = \\{\\omega | \\omega \\quad \\text{cumple P con P proposición}\\} $$\n"
      ],
      "metadata": {
        "id": "q0Z0MSl1PeOI"
      }
    },
    {
      "cell_type": "markdown",
      "source": [
        "**Probabilidad de un evento:** Sea $A⊆Ω$ un evento bien definido y $\\mathbb{P}: \\Omega  \\overset{}{\\rightarrow}[0,1]$ una función medible que representa la frecuencia con la que se observa la ocurrecnia de un evento, decimos entonces que $\\mathbb{P}(A)$ es la probabilidad de ocurrencia de un evento $A$.\\\n",
        "**Probabilidad clásica de un evento:** Sea $A⊆Ω$ un subconjunto de $\\Omega$ de cardinalidad finita, definimos:\n",
        "$$ \\mathbb{P}(A) = \\frac{|A|}{|\\Omega|} = \\frac{n}{m} \\quad \\text{Donde |A| = n y } |\\Omega|=m $$\\\n",
        "Nota: $0\\leq \\mathbb{P}(A)\\leq 1$"
      ],
      "metadata": {
        "id": "oqzpZjpQRNDP"
      }
    },
    {
      "cell_type": "markdown",
      "source": [
        "**Independencia de eventos:**\n",
        "Decimos que dos eventos son independientes si\n",
        "$$\\mathbb{P}(A\\cap B) = \\mathbb{P}(A)\\mathbb{P}(B)$$\n",
        "O de manera equivalente\n",
        "$$ \\mathbb{P}(A|B)=\\mathbb{P}(A)$$"
      ],
      "metadata": {
        "id": "R11d_eXQZuRt"
      }
    },
    {
      "cell_type": "markdown",
      "source": [
        "**Teorema:** Sea $\\Omega$ finito un espacio muestral, se cumple que:\n",
        "\n",
        "\n",
        "1.    $\\mathbb{P}(\\Omega) = 1$\n",
        "2.   $ \\mathbb{P}(A)\\geq 0 \\forall A \\subseteq \\Omega$\n",
        "3. $\\mathbb{P}(\\varnothing )=0$\n",
        "4. Si $A\\cap B = \\varnothing \\Rightarrow \\mathbb{P}(A\\cup B) = \\mathbb{P}(A) + \\mathbb{P}(B)$\n",
        "\n"
      ],
      "metadata": {
        "id": "bsPH8aBlURgD"
      }
    },
    {
      "cell_type": "markdown",
      "source": [
        "$\\color{blue} {\\text {Ejemplo: }}$ Sea el experimento de lanzar una moneda 3 veces, de manera independiente, es decir, el $i$ - ésimo lanzamiento no me afecta al $i+1$ lanzamiento. El espacio muestral de este experimento es:\n",
        "$$ \\Omega= \\{A,S\\} \\times \\{A,S\\} \\times \\{A,S\\}= \\{A,S\\}^3 $$\n",
        "Y tenemos que $ \\#\\Omega= 2^3 = 8$\\\n",
        "Sean los eventos\n",
        "\n",
        "*   $A$: Todos los resultados son águila\n",
        "*   $S$: Todos los resultados son sol\n",
        "*   $E$: Por lo menos un resultado es sol\n",
        "\n",
        "Calcular las probabilidades de estos eventos.\\\n",
        "**Solución** Vamos a descomponer mi conjunto $A$ de la siguiente manera:\n",
        "$$A = A_1\\cap  A_2 \\cap A_3 $$\n",
        "donde $A_i$: cae águila en el $i$- ésimo resultado.\n"
      ],
      "metadata": {
        "id": "9d0F9CsBWRlB"
      }
    },
    {
      "cell_type": "code",
      "source": [
        "#Vamos a crear el espacio muestral\n",
        "import itertools\n",
        "from itertools import product\n",
        "\n",
        "Omega = set(product({\"A\", \"S\"}, repeat=3))\n",
        "Omega"
      ],
      "metadata": {
        "colab": {
          "base_uri": "https://localhost:8080/"
        },
        "id": "oMIfNXV2xZug",
        "outputId": "bb0015b2-1168-4661-8a00-f6320e621af7"
      },
      "execution_count": null,
      "outputs": [
        {
          "output_type": "execute_result",
          "data": {
            "text/plain": [
              "{('A', 'A', 'A'),\n",
              " ('A', 'A', 'S'),\n",
              " ('A', 'S', 'A'),\n",
              " ('A', 'S', 'S'),\n",
              " ('S', 'A', 'A'),\n",
              " ('S', 'A', 'S'),\n",
              " ('S', 'S', 'A'),\n",
              " ('S', 'S', 'S')}"
            ]
          },
          "metadata": {},
          "execution_count": 2
        }
      ]
    },
    {
      "cell_type": "code",
      "source": [
        "len(Omega) # Cardinalidad de Omega"
      ],
      "metadata": {
        "colab": {
          "base_uri": "https://localhost:8080/"
        },
        "id": "IPWrgGbexauK",
        "outputId": "70ea56d2-ade7-424c-80e4-a19d9be23b6d"
      },
      "execution_count": null,
      "outputs": [
        {
          "output_type": "execute_result",
          "data": {
            "text/plain": [
              "8"
            ]
          },
          "metadata": {},
          "execution_count": 3
        }
      ]
    },
    {
      "cell_type": "code",
      "source": [
        "#Vamos a crear el evento A_1\n",
        "A_1 = {om for om in Omega if om[0]==\"A\"} #La primera coordenada es águila\n",
        "A_1"
      ],
      "metadata": {
        "colab": {
          "base_uri": "https://localhost:8080/"
        },
        "id": "j0PVrUmsxi_m",
        "outputId": "8bb00098-714a-4e7e-fc20-358eccc3fee8"
      },
      "execution_count": null,
      "outputs": [
        {
          "output_type": "execute_result",
          "data": {
            "text/plain": [
              "{('A', 'A', 'A'), ('A', 'A', 'S'), ('A', 'S', 'A'), ('A', 'S', 'S')}"
            ]
          },
          "metadata": {},
          "execution_count": 4
        }
      ]
    },
    {
      "cell_type": "code",
      "source": [
        "#Vamos a crear el evento A_2\n",
        "A_2 = {om for om in Omega if om[1]==\"A\"} #La segunda coordenada es águila\n",
        "A_2"
      ],
      "metadata": {
        "colab": {
          "base_uri": "https://localhost:8080/"
        },
        "id": "kRnjUHTHxnZC",
        "outputId": "36dc510c-0760-483a-99a2-6c409c793b97"
      },
      "execution_count": null,
      "outputs": [
        {
          "output_type": "execute_result",
          "data": {
            "text/plain": [
              "{('A', 'A', 'A'), ('A', 'A', 'S'), ('S', 'A', 'A'), ('S', 'A', 'S')}"
            ]
          },
          "metadata": {},
          "execution_count": 5
        }
      ]
    },
    {
      "cell_type": "code",
      "source": [
        "#Vamos a crear el evento A_3\n",
        "A_3 = {om for om in Omega if om[2]==\"A\"} #La tercera coordenada es águila\n",
        "A_3"
      ],
      "metadata": {
        "colab": {
          "base_uri": "https://localhost:8080/"
        },
        "id": "Vc9gcLcSxq-x",
        "outputId": "d7436b79-189b-4460-f4f4-0ffb075b1442"
      },
      "execution_count": null,
      "outputs": [
        {
          "output_type": "execute_result",
          "data": {
            "text/plain": [
              "{('A', 'A', 'A'), ('A', 'S', 'A'), ('S', 'A', 'A'), ('S', 'S', 'A')}"
            ]
          },
          "metadata": {},
          "execution_count": 6
        }
      ]
    },
    {
      "cell_type": "code",
      "source": [
        "#Vamos a crear el evento A\n",
        "A = A_1.intersection(A_2.intersection(A_3))\n",
        "A"
      ],
      "metadata": {
        "colab": {
          "base_uri": "https://localhost:8080/"
        },
        "id": "Q0sSu0PKxskW",
        "outputId": "ccdbad02-3fb2-4285-f69e-65447f04f4bb"
      },
      "execution_count": null,
      "outputs": [
        {
          "output_type": "execute_result",
          "data": {
            "text/plain": [
              "{('A', 'A', 'A')}"
            ]
          },
          "metadata": {},
          "execution_count": 7
        }
      ]
    },
    {
      "cell_type": "code",
      "source": [
        "len(A)"
      ],
      "metadata": {
        "colab": {
          "base_uri": "https://localhost:8080/"
        },
        "id": "m15YOlS_xwN4",
        "outputId": "e0d496ed-1937-4b77-e606-f97ac6f2fd0b"
      },
      "execution_count": null,
      "outputs": [
        {
          "output_type": "execute_result",
          "data": {
            "text/plain": [
              "1"
            ]
          },
          "metadata": {},
          "execution_count": 8
        }
      ]
    },
    {
      "cell_type": "code",
      "source": [
        "#Vamos a calcular la probabilidad de A\n",
        "P_A= len(A)/len(Omega)\n",
        "P_A"
      ],
      "metadata": {
        "colab": {
          "base_uri": "https://localhost:8080/"
        },
        "id": "93ZgBDeqxzLJ",
        "outputId": "bb51b4fb-ad8f-4996-8e46-31cd5bbb49d7"
      },
      "execution_count": null,
      "outputs": [
        {
          "output_type": "execute_result",
          "data": {
            "text/plain": [
              "0.125"
            ]
          },
          "metadata": {},
          "execution_count": 9
        }
      ]
    },
    {
      "cell_type": "code",
      "source": [
        "from fractions import Fraction\n",
        "def p(E, Omega):\n",
        "  p= Fraction(len(E), len(Omega))\n",
        "  return p\n",
        "prob = p(A,Omega)\n",
        "prob"
      ],
      "metadata": {
        "colab": {
          "base_uri": "https://localhost:8080/"
        },
        "id": "JFQYR2frx26c",
        "outputId": "ca05448a-d205-4275-beaa-351300525beb"
      },
      "execution_count": null,
      "outputs": [
        {
          "output_type": "execute_result",
          "data": {
            "text/plain": [
              "Fraction(1, 8)"
            ]
          },
          "metadata": {},
          "execution_count": 10
        }
      ]
    },
    {
      "cell_type": "markdown",
      "source": [
        "**Probabilidad condicional**\n",
        "Definimos la probabilidad de que ocurra un evento $A$ sabiendo que ocurre el evento $B$,\n",
        "$$\\mathbb{P}(A\\mid B)= \\frac{\\mathbb{P}(A\\cap B)}{\\mathbb{P}(B)}$$\n",
        "donde $$\\mathbb{P}(B) > 0$$\n"
      ],
      "metadata": {
        "id": "DqyxtEtAyGqL"
      }
    },
    {
      "cell_type": "code",
      "source": [
        "def prob_cond(E,F):\n",
        "  return len(E & F)/len(F)"
      ],
      "metadata": {
        "id": "IMM7VC7UyOE5"
      },
      "execution_count": null,
      "outputs": []
    },
    {
      "cell_type": "markdown",
      "source": [
        "Quiero calcular la probabilidad condiconal de los siguientes eventos:\n",
        "* El primer lanzamiento es águila.\n",
        "* Dos de los resultados son águila."
      ],
      "metadata": {
        "id": "q6iSDSKoySUm"
      }
    },
    {
      "cell_type": "code",
      "source": [
        "#El primer lanzamiento es águila\n",
        "B= {om for om in Omega if om[0]==\"A\"}\n",
        "B"
      ],
      "metadata": {
        "colab": {
          "base_uri": "https://localhost:8080/"
        },
        "id": "fY3M2JfbyTjX",
        "outputId": "2ea307d4-235c-425d-f93e-4b882d52a58c"
      },
      "execution_count": null,
      "outputs": [
        {
          "output_type": "execute_result",
          "data": {
            "text/plain": [
              "{('A', 'A', 'A'), ('A', 'A', 'S'), ('A', 'S', 'A'), ('A', 'S', 'S')}"
            ]
          },
          "metadata": {},
          "execution_count": 12
        }
      ]
    },
    {
      "cell_type": "code",
      "source": [
        "C= {om for om in Omega if om.count(\"A\")==2}\n",
        "C"
      ],
      "metadata": {
        "colab": {
          "base_uri": "https://localhost:8080/"
        },
        "id": "R_9nEaVfyXnZ",
        "outputId": "4bb81238-49c5-4e02-8251-7fd1191a3b14"
      },
      "execution_count": null,
      "outputs": [
        {
          "output_type": "execute_result",
          "data": {
            "text/plain": [
              "{('A', 'A', 'S'), ('A', 'S', 'A'), ('S', 'A', 'A')}"
            ]
          },
          "metadata": {},
          "execution_count": 13
        }
      ]
    },
    {
      "cell_type": "code",
      "source": [
        "def prob(E):\n",
        "  return len(E)/len(Omega)"
      ],
      "metadata": {
        "id": "3kyhOEn-yagl"
      },
      "execution_count": null,
      "outputs": []
    },
    {
      "cell_type": "code",
      "source": [
        "prob(B)\n"
      ],
      "metadata": {
        "colab": {
          "base_uri": "https://localhost:8080/"
        },
        "id": "KPCyCrZtyepN",
        "outputId": "a2e50b64-9c33-438a-cc3a-e4513c9bde0a"
      },
      "execution_count": null,
      "outputs": [
        {
          "output_type": "execute_result",
          "data": {
            "text/plain": [
              "0.5"
            ]
          },
          "metadata": {},
          "execution_count": 16
        }
      ]
    },
    {
      "cell_type": "code",
      "source": [
        "prob(C)"
      ],
      "metadata": {
        "colab": {
          "base_uri": "https://localhost:8080/"
        },
        "id": "dGGVqd0RymE-",
        "outputId": "57a00ec2-e9e3-4af5-e0fc-ccb332e89096"
      },
      "execution_count": null,
      "outputs": [
        {
          "output_type": "execute_result",
          "data": {
            "text/plain": [
              "0.375"
            ]
          },
          "metadata": {},
          "execution_count": 17
        }
      ]
    },
    {
      "cell_type": "code",
      "source": [
        "prob_cond(B,C)"
      ],
      "metadata": {
        "colab": {
          "base_uri": "https://localhost:8080/"
        },
        "id": "QVyddH0TypwU",
        "outputId": "d2b51c41-3a4a-4c91-a4dc-d006669ec091"
      },
      "execution_count": null,
      "outputs": [
        {
          "output_type": "execute_result",
          "data": {
            "text/plain": [
              "0.6666666666666666"
            ]
          },
          "metadata": {},
          "execution_count": 18
        }
      ]
    },
    {
      "cell_type": "markdown",
      "source": [],
      "metadata": {
        "id": "OgSrfJs7yJkG"
      }
    },
    {
      "cell_type": "markdown",
      "source": [
        "**Probabilidad geométrica:**\\\n",
        "Supuestos:\n",
        "* Si $\\Omega  \\subseteq  \\mathbb{R}^{2}$\n",
        "* $\\Omega$ es equiprobable.\n",
        "* Es posible definir sin vaguedad el concepto de área sobre $\\Omega$ y sus subconjuntos.\\\n",
        "Si se cumplen todos los supuestos anteriores, entonces definimos:\n",
        "$$ \\mathbb{P}(A)= \\frac{Área de A}{Área de \\Omega} $$"
      ],
      "metadata": {
        "id": "KtULpWvksYU3"
      }
    },
    {
      "cell_type": "markdown",
      "source": [
        "$\\color{blue} {\\text {Ejemplo: }}$ Problema del encuentro: Romeo y Julieta pretenden encontrarse en un lugar específico entre $[0,60].$\n",
        "- Si Romeo llega primero, entonces piensa esperar 10 minutos.\n",
        "- Si Julieta llega primero, piensa esperar 10 minutos.\n"
      ],
      "metadata": {
        "id": "FRL-pcT3tzF7"
      }
    },
    {
      "cell_type": "markdown",
      "source": [
        "![image.png](data:image/png;base64,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)"
      ],
      "metadata": {
        "id": "2A4VQWb0vYqH"
      }
    },
    {
      "cell_type": "markdown",
      "source": [
        "Se elige un número al azar entre 0 y 60 y supongamos que el par de números se elige sobre el cuadrado $60^2$, de modo que la probabilidad de un evento sea el área favorable entre el área total."
      ],
      "metadata": {
        "id": "Xf4z-VX-vbIR"
      }
    },
    {
      "cell_type": "markdown",
      "source": [
        "Sea el evento\n",
        "- $A:$ Romero y Julieta se encuentran a una distancia de 10 minutos."
      ],
      "metadata": {
        "id": "sbU0dwwPvjIr"
      }
    },
    {
      "cell_type": "code",
      "source": [
        "import matplotlib.pyplot as plt\n",
        "import numpy as np\n",
        "\n",
        "# Vamos a generar 100,000 simulaciones\n",
        "muestra = 1000000\n",
        "\n",
        "# Generamos los tiempos aleatorios entre [0,60]\n",
        "# x : tiempo de llegada de Romero [0,60]\n",
        "# y : tiempo de llegada de Romero [0,60]\n",
        "\n",
        "x,y = np.random.uniform(0,60,muestra), np.random.uniform(0,60,muestra)\n",
        "\n",
        "# Vamos a añadir nuestra condición de encuentro\n",
        "encuentro = np.where(abs(x-y)<=10, 'r', 'b') # r si se encuentran y b si no se encuentran\n",
        "\n",
        "# Calculo de la probabilidad del encuentro\n",
        "k=0\n",
        "for elemento in encuentro:\n",
        "    if elemento == 'r':\n",
        "        k += 1\n",
        "\n",
        "print(\"La probabilidad del evento A es: {}.\".format(k/muestra))\n",
        "\n",
        "plt.scatter(x,y,c=encuentro,s=1)\n",
        "plt.show()"
      ],
      "metadata": {
        "colab": {
          "base_uri": "https://localhost:8080/",
          "height": 448
        },
        "id": "cjMTzMOxvnn1",
        "outputId": "d10b4a25-7666-451c-ec73-a5bda30ca80b"
      },
      "execution_count": null,
      "outputs": [
        {
          "output_type": "stream",
          "name": "stdout",
          "text": [
            "La probabilidad del evento A es: 0.305537.\n"
          ]
        },
        {
          "output_type": "display_data",
          "data": {
            "text/plain": [
              "<Figure size 640x480 with 1 Axes>"
            ],
            "image/png": "[encoded data removed]"
          },
          "metadata": {}
        }
      ]
    },
    {
      "cell_type": "markdown",
      "source": [
        "**Probabilidad Frecuentista**\n",
        "\n",
        "Tenemos la hipótesis de que el espacio muestral es un conjunto finito, y podemos definir la probabilidad asociada a un evento $A$:\n",
        "\n",
        "$$ f_n(A) = \\frac{n(A)}{n}, $$\n",
        "donde $n(A)$ denota al número de veces que ocurre $A$, y $n$ es el número de veces en que se realiza el experimento."
      ],
      "metadata": {
        "id": "7yj4fbhkzwEd"
      }
    },
    {
      "cell_type": "markdown",
      "source": [
        "$\\color{blue} {\\text {Ejemplo: }}$Se tiene el lanzamiento de monedas injustas (volados)"
      ],
      "metadata": {
        "id": "Im_z2IGqz-tb"
      }
    },
    {
      "cell_type": "code",
      "source": [
        "import random\n",
        "def volado(p):\n",
        "    return 'sol' if random.random() < p else 'aguila'"
      ],
      "metadata": {
        "id": "fhzl6cyL0IBK"
      },
      "execution_count": null,
      "outputs": []
    },
    {
      "cell_type": "code",
      "source": [
        "volado(0.4)"
      ],
      "metadata": {
        "colab": {
          "base_uri": "https://localhost:8080/",
          "height": 36
        },
        "id": "wDU3v10v0MSG",
        "outputId": "5eb4c0c4-94c3-4f58-8f83-28b049d2f4fa"
      },
      "execution_count": null,
      "outputs": [
        {
          "output_type": "execute_result",
          "data": {
            "text/plain": [
              "'sol'"
            ],
            "application/vnd.google.colaboratory.intrinsic+json": {
              "type": "string"
            }
          },
          "metadata": {},
          "execution_count": 22
        }
      ]
    },
    {
      "cell_type": "code",
      "source": [
        "a = [volado(0.4) for i in range(10)]\n",
        "a"
      ],
      "metadata": {
        "colab": {
          "base_uri": "https://localhost:8080/"
        },
        "id": "wheEDt6k0Vu-",
        "outputId": "f8aa01b2-3d2b-4b11-b217-bb9337baf1b1"
      },
      "execution_count": null,
      "outputs": [
        {
          "output_type": "execute_result",
          "data": {
            "text/plain": [
              "['aguila', 'sol', 'sol', 'aguila', 'sol', 'sol', 'sol', 'aguila', 'sol', 'sol']"
            ]
          },
          "metadata": {},
          "execution_count": 23
        }
      ]
    },
    {
      "cell_type": "code",
      "source": [
        "a.count(\"sol\")"
      ],
      "metadata": {
        "colab": {
          "base_uri": "https://localhost:8080/"
        },
        "id": "-U-riCo40aQB",
        "outputId": "3f9eb54b-c782-42bb-ad53-22007516e770"
      },
      "execution_count": null,
      "outputs": [
        {
          "output_type": "execute_result",
          "data": {
            "text/plain": [
              "7"
            ]
          },
          "metadata": {},
          "execution_count": 24
        }
      ]
    },
    {
      "cell_type": "code",
      "source": [
        "resultados = [] # lista vacia"
      ],
      "metadata": {
        "id": "0_KnJCXq0dUk"
      },
      "execution_count": null,
      "outputs": []
    },
    {
      "cell_type": "code",
      "source": [
        "for i in range(10):\n",
        "    resultado = volado(0.4)\n",
        "    resultados.append(resultado)\n",
        "resultados"
      ],
      "metadata": {
        "colab": {
          "base_uri": "https://localhost:8080/"
        },
        "id": "-VOcPcz-0gmZ",
        "outputId": "62d2c9d7-5f2d-4165-8f8a-c461c74f9388"
      },
      "execution_count": null,
      "outputs": [
        {
          "output_type": "execute_result",
          "data": {
            "text/plain": [
              "['aguila',\n",
              " 'aguila',\n",
              " 'sol',\n",
              " 'aguila',\n",
              " 'sol',\n",
              " 'aguila',\n",
              " 'aguila',\n",
              " 'aguila',\n",
              " 'sol',\n",
              " 'sol']"
            ]
          },
          "metadata": {},
          "execution_count": 26
        }
      ]
    },
    {
      "cell_type": "code",
      "source": [
        "# Vamos a simular nuestra probabilidad frecuentista\n",
        "p = [] #Lista para almacernar las probabilidades\n",
        "\n",
        "for i in range(1000): #Simula 1000 experimentos\n",
        "    N = 1000 # numero de lanzamientos\n",
        "    resultados = []\n",
        "\n",
        "    for i in range(N):\n",
        "        resultado = volado(0.63)\n",
        "        resultados.append(resultado)\n",
        "\n",
        "    n_soles = resultados.count(\"sol\") # cuenta en número de soles\n",
        "    p_soles = n_soles / N #calcula la proporción\n",
        "\n",
        "    p.append(p_soles)\n",
        "\n",
        "# Probabilidad promedio\n",
        "p_soles_prom = sum(p) / 1000\n",
        "\n",
        "print(\"Probabiliad {:.3f}\".format(p_soles_prom))"
      ],
      "metadata": {
        "colab": {
          "base_uri": "https://localhost:8080/"
        },
        "id": "jfbqDkwM0jiu",
        "outputId": "e2843fde-fa5d-4731-ed67-625de8aac2ec"
      },
      "execution_count": null,
      "outputs": [
        {
          "output_type": "stream",
          "name": "stdout",
          "text": [
            "Probabiliad 0.630\n"
          ]
        }
      ]
    },
    {
      "cell_type": "markdown",
      "source": [
        "**El espacio muestral asociado a un experimento aleatorio:**\n",
        "\n",
        "El espacio muestral $\\Omega$ del experimento aleatorio de lanzar dos dados honestos, esta compuesto por todas las pearejas ordenadas $(i,j)$ tales que $1 \\leq i,j \\leq 6$\n",
        "\n",
        "$$\\Omega = \\{ (i,j) \\mid 1 \\leq i,j \\leq 6 \\} $$\n",
        "y sabemos que $\\#\\Omega = 6^2 = 36$"
      ],
      "metadata": {
        "id": "i5hhEdjw1T2D"
      }
    },
    {
      "cell_type": "code",
      "source": [
        "#usamos itertools\n",
        "from itertools import product"
      ],
      "metadata": {
        "id": "t7LWVLHh1c4E"
      },
      "execution_count": null,
      "outputs": []
    },
    {
      "cell_type": "code",
      "source": [
        "Omega = set(product([1,2,3,4,5,6], repeat = 2))\n",
        "Omega"
      ],
      "metadata": {
        "colab": {
          "base_uri": "https://localhost:8080/"
        },
        "id": "eHdXZFYT1gMk",
        "outputId": "9e5b1745-bcaf-4ca0-a4fe-dc0be6f19a98"
      },
      "execution_count": null,
      "outputs": [
        {
          "output_type": "execute_result",
          "data": {
            "text/plain": [
              "{(1, 1),\n",
              " (1, 2),\n",
              " (1, 3),\n",
              " (1, 4),\n",
              " (1, 5),\n",
              " (1, 6),\n",
              " (2, 1),\n",
              " (2, 2),\n",
              " (2, 3),\n",
              " (2, 4),\n",
              " (2, 5),\n",
              " (2, 6),\n",
              " (3, 1),\n",
              " (3, 2),\n",
              " (3, 3),\n",
              " (3, 4),\n",
              " (3, 5),\n",
              " (3, 6),\n",
              " (4, 1),\n",
              " (4, 2),\n",
              " (4, 3),\n",
              " (4, 4),\n",
              " (4, 5),\n",
              " (4, 6),\n",
              " (5, 1),\n",
              " (5, 2),\n",
              " (5, 3),\n",
              " (5, 4),\n",
              " (5, 5),\n",
              " (5, 6),\n",
              " (6, 1),\n",
              " (6, 2),\n",
              " (6, 3),\n",
              " (6, 4),\n",
              " (6, 5),\n",
              " (6, 6)}"
            ]
          },
          "metadata": {},
          "execution_count": 29
        }
      ]
    },
    {
      "cell_type": "code",
      "source": [
        "card_Omega = len(Omega)\n",
        "card_Omega"
      ],
      "metadata": {
        "colab": {
          "base_uri": "https://localhost:8080/"
        },
        "id": "dbhw6FDN1mJy",
        "outputId": "97399500-9838-47ef-cca8-357a99b248bb"
      },
      "execution_count": null,
      "outputs": [
        {
          "output_type": "execute_result",
          "data": {
            "text/plain": [
              "36"
            ]
          },
          "metadata": {},
          "execution_count": 30
        }
      ]
    },
    {
      "cell_type": "markdown",
      "source": [
        "Sea $S_n$ el evento \"La suma de los dados en $n$\". Esto es:\n",
        "$$S_n=\\{(i,j)\\in\\Omega:i+j=n\\}.$$"
      ],
      "metadata": {
        "id": "OeFtdz-_1to3"
      }
    },
    {
      "cell_type": "code",
      "source": [
        "def S(n):\n",
        "    Sn = {(i,j) for i in range(1,7) for j in range(1,7) if i+j==n}\n",
        "    return Sn"
      ],
      "metadata": {
        "id": "vVRVFdzt1v9y"
      },
      "execution_count": null,
      "outputs": []
    },
    {
      "cell_type": "code",
      "source": [
        "print(S(9))"
      ],
      "metadata": {
        "colab": {
          "base_uri": "https://localhost:8080/"
        },
        "id": "-4TYfGO910sX",
        "outputId": "ed228ffb-4420-4d09-9cf1-cd7b15026b2c"
      },
      "execution_count": null,
      "outputs": [
        {
          "output_type": "stream",
          "name": "stdout",
          "text": [
            "{(6, 3), (4, 5), (5, 4), (3, 6)}\n"
          ]
        }
      ]
    },
    {
      "cell_type": "code",
      "source": [
        "print(S(12))"
      ],
      "metadata": {
        "colab": {
          "base_uri": "https://localhost:8080/"
        },
        "id": "8GGGGGO914Ws",
        "outputId": "b1b3591d-3a8c-4760-a35e-e308f83803c9"
      },
      "execution_count": null,
      "outputs": [
        {
          "output_type": "stream",
          "name": "stdout",
          "text": [
            "{(6, 6)}\n"
          ]
        }
      ]
    },
    {
      "cell_type": "markdown",
      "source": [
        "**La variable aleatoria asociada a $S_n:$**\n"
      ],
      "metadata": {
        "id": "PqZycQoc2ATy"
      }
    },
    {
      "cell_type": "code",
      "source": [
        "from fractions import Fraction\n",
        "# Definir la funcion P(A)\n",
        "# Es la probabilidad del evento A definida mediante la definición clásica\n",
        "\n",
        "def P(A):\n",
        "    P = Fraction(len(A), len(Omega))\n",
        "    return P\n"
      ],
      "metadata": {
        "id": "1HAy1fj21qQ-"
      },
      "execution_count": null,
      "outputs": []
    },
    {
      "cell_type": "code",
      "source": [
        "# Vamos a definir un diccionario S\n",
        "# (i,j) pares ordenados y los valores de su suma\n",
        "\n",
        "S = {(i,j) : i+j for i,j in Omega}"
      ],
      "metadata": {
        "id": "sVT0kXl-2REz"
      },
      "execution_count": null,
      "outputs": []
    },
    {
      "cell_type": "code",
      "source": [
        "# Agrupación de combinaciones por suma\n",
        "\n",
        "from collections import defaultdict\n",
        "\n",
        "dS = defaultdict(set)"
      ],
      "metadata": {
        "id": "PVQ4Fzf32Ut0"
      },
      "execution_count": null,
      "outputs": []
    },
    {
      "cell_type": "code",
      "source": [
        "# Vamos a recorrer sobre los elementos en S\n",
        "\n",
        "for i,j in S.items():\n",
        "\n",
        "    dS[j].add(i)"
      ],
      "metadata": {
        "id": "Lhk7zXmQ2YPg"
      },
      "execution_count": null,
      "outputs": []
    },
    {
      "cell_type": "code",
      "source": [
        "list(dS.items())"
      ],
      "metadata": {
        "colab": {
          "base_uri": "https://localhost:8080/"
        },
        "id": "6JR01l0-2bpQ",
        "outputId": "fae2322c-3d9e-4ca8-d1f8-9a22aea53320"
      },
      "execution_count": null,
      "outputs": [
        {
          "output_type": "execute_result",
          "data": {
            "text/plain": [
              "[(7, {(1, 6), (2, 5), (3, 4), (4, 3), (5, 2), (6, 1)}),\n",
              " (4, {(1, 3), (2, 2), (3, 1)}),\n",
              " (9, {(3, 6), (4, 5), (5, 4), (6, 3)}),\n",
              " (10, {(4, 6), (5, 5), (6, 4)}),\n",
              " (6, {(1, 5), (2, 4), (3, 3), (4, 2), (5, 1)}),\n",
              " (8, {(2, 6), (3, 5), (4, 4), (5, 3), (6, 2)}),\n",
              " (11, {(5, 6), (6, 5)}),\n",
              " (3, {(1, 2), (2, 1)}),\n",
              " (5, {(1, 4), (2, 3), (3, 2), (4, 1)}),\n",
              " (2, {(1, 1)}),\n",
              " (12, {(6, 6)})]"
            ]
          },
          "metadata": {},
          "execution_count": 38
        }
      ]
    },
    {
      "cell_type": "code",
      "source": [
        "# LeyS almacenar la probabilidad de casa posible suma,\n",
        "# Usando la función P(A)\n",
        "# En otras palabras \"la función de densidad\"\n",
        "# A es el conjunto de pares que producden la suma i\n",
        "\n",
        "leyS = {i : P(A) for i, A in dS.items() }\n",
        "leyS"
      ],
      "metadata": {
        "colab": {
          "base_uri": "https://localhost:8080/"
        },
        "id": "EX038g6I2fCm",
        "outputId": "b7bb6b1c-1e81-4bb6-a951-de8a1a07a04c"
      },
      "execution_count": null,
      "outputs": [
        {
          "output_type": "execute_result",
          "data": {
            "text/plain": [
              "{7: Fraction(1, 6),\n",
              " 4: Fraction(1, 12),\n",
              " 9: Fraction(1, 9),\n",
              " 10: Fraction(1, 12),\n",
              " 6: Fraction(5, 36),\n",
              " 8: Fraction(5, 36),\n",
              " 11: Fraction(1, 18),\n",
              " 3: Fraction(1, 18),\n",
              " 5: Fraction(1, 9),\n",
              " 2: Fraction(1, 36),\n",
              " 12: Fraction(1, 36)}"
            ]
          },
          "metadata": {},
          "execution_count": 39
        }
      ]
    },
    {
      "cell_type": "code",
      "source": [
        "# Importamos la libreria Pandas\n",
        "\n",
        "import pandas as pd"
      ],
      "metadata": {
        "id": "rx88qoYX2i0k"
      },
      "execution_count": null,
      "outputs": []
    },
    {
      "cell_type": "markdown",
      "source": [
        "Recordemos que una variable aleatoria real $X$, es una función\n",
        "$$X : \\Omega \\to \\mathbb{R}$$\n",
        "\n",
        "Sabemos que la función de densidad de una v.a. discreta $X$, se define como sigue:\n",
        "$$ f_X(x) = \\begin{cases} \\mathbb{P}(X=x), \\quad \\text{si } x\\in R_{X} \\\\ 0, \\quad \\text{e.o.c} \\end{cases} $$\n",
        "donde $R_X$ es el rango de la v.a. $X$."
      ],
      "metadata": {
        "id": "7fEs6jtb2s_B"
      }
    },
    {
      "cell_type": "markdown",
      "source": [
        "Para nuestro evento $S_n$, se tiene la siguiente variable aleatoria\n",
        "$$ S : \\Omega \\to \\{2,3,4,5,6,7,8,9,10,11,12\\}$$"
      ],
      "metadata": {
        "id": "xr3c5cxu2y_o"
      }
    },
    {
      "cell_type": "code",
      "source": [
        "# Vamos a crear una serie\n",
        "\n",
        "ley_S = pd.Series(leyS)\n",
        "ley_S.sort_index() #ordenar"
      ],
      "metadata": {
        "colab": {
          "base_uri": "https://localhost:8080/",
          "height": 429
        },
        "id": "RBJw4jay24kT",
        "outputId": "e0979097-0c11-404b-ff86-bbe269f2ba4f"
      },
      "execution_count": null,
      "outputs": [
        {
          "output_type": "execute_result",
          "data": {
            "text/plain": [
              "2     1/36\n",
              "3     1/18\n",
              "4     1/12\n",
              "5      1/9\n",
              "6     5/36\n",
              "7      1/6\n",
              "8     5/36\n",
              "9      1/9\n",
              "10    1/12\n",
              "11    1/18\n",
              "12    1/36\n",
              "dtype: object"
            ],
            "text/html": [
              "<div>\n",
              "<style scoped>\n",
              "    .dataframe tbody tr th:only-of-type {\n",
              "        vertical-align: middle;\n",
              "    }\n",
              "\n",
              "    .dataframe tbody tr th {\n",
              "        vertical-align: top;\n",
              "    }\n",
              "\n",
              "    .dataframe thead th {\n",
              "        text-align: right;\n",
              "    }\n",
              "</style>\n",
              "<table border=\"1\" class=\"dataframe\">\n",
              "  <thead>\n",
              "    <tr style=\"text-align: right;\">\n",
              "      <th></th>\n",
              "      <th>0</th>\n",
              "    </tr>\n",
              "  </thead>\n",
              "  <tbody>\n",
              "    <tr>\n",
              "      <th>2</th>\n",
              "      <td>1/36</td>\n",
              "    </tr>\n",
              "    <tr>\n",
              "      <th>3</th>\n",
              "      <td>1/18</td>\n",
              "    </tr>\n",
              "    <tr>\n",
              "      <th>4</th>\n",
              "      <td>1/12</td>\n",
              "    </tr>\n",
              "    <tr>\n",
              "      <th>5</th>\n",
              "      <td>1/9</td>\n",
              "    </tr>\n",
              "    <tr>\n",
              "      <th>6</th>\n",
              "      <td>5/36</td>\n",
              "    </tr>\n",
              "    <tr>\n",
              "      <th>7</th>\n",
              "      <td>1/6</td>\n",
              "    </tr>\n",
              "    <tr>\n",
              "      <th>8</th>\n",
              "      <td>5/36</td>\n",
              "    </tr>\n",
              "    <tr>\n",
              "      <th>9</th>\n",
              "      <td>1/9</td>\n",
              "    </tr>\n",
              "    <tr>\n",
              "      <th>10</th>\n",
              "      <td>1/12</td>\n",
              "    </tr>\n",
              "    <tr>\n",
              "      <th>11</th>\n",
              "      <td>1/18</td>\n",
              "    </tr>\n",
              "    <tr>\n",
              "      <th>12</th>\n",
              "      <td>1/36</td>\n",
              "    </tr>\n",
              "  </tbody>\n",
              "</table>\n",
              "</div><br><label><b>dtype:</b> object</label>"
            ]
          },
          "metadata": {},
          "execution_count": 41
        }
      ]
    },
    {
      "cell_type": "code",
      "source": [
        "import numpy as np # Importar la liberia\n",
        "# LeyS(i) devuelve la probabilidad de obtener la suma i, si está en el rango de posibles sumas\n",
        "\n",
        "def leyS(i):\n",
        "    if i in range(2,13):\n",
        "        x = ley_S[i]\n",
        "    else:\n",
        "        x = 0 # si no está en el rango me devuelve cero\n",
        "    return x"
      ],
      "metadata": {
        "id": "g_J1Nd_T280F"
      },
      "execution_count": null,
      "outputs": []
    },
    {
      "cell_type": "code",
      "source": [
        "# Vamos a crear el rango de S\n",
        "\n",
        "#creo una lista con los posibles valores\n",
        "rango_S = [k for k in range(2,13)]\n",
        "\n",
        "#Obtenemos la probabilidad de cada suma\n",
        "p_k = [float(leyS(k)) for k in rango_S]"
      ],
      "metadata": {
        "id": "0U75iWjq3Eq3"
      },
      "execution_count": null,
      "outputs": []
    },
    {
      "cell_type": "code",
      "source": [
        "# Creamos un DataFrame con:\n",
        "# - los valores del rango_S\n",
        "# - las probabilidades p_k\n",
        "# Indexamos una etiqueta S_2,...,S_12\n",
        "\n",
        "# zip() -> toma dos listas y las combina en pares ordenados\n",
        "lS = pd.DataFrame(list(zip(rango_S, p_k)), index=[f\"S_{i}\" for i in range(2,13)], columns = ['rango','densidad'])\n",
        "lS"
      ],
      "metadata": {
        "colab": {
          "base_uri": "https://localhost:8080/",
          "height": 394
        },
        "id": "2Eo3WM7z3JeV",
        "outputId": "7b11b00b-9e48-42d2-a55e-8e619c69eed5"
      },
      "execution_count": null,
      "outputs": [
        {
          "output_type": "execute_result",
          "data": {
            "text/plain": [
              "      rango  densidad\n",
              "S_2       2  0.027778\n",
              "S_3       3  0.055556\n",
              "S_4       4  0.083333\n",
              "S_5       5  0.111111\n",
              "S_6       6  0.138889\n",
              "S_7       7  0.166667\n",
              "S_8       8  0.138889\n",
              "S_9       9  0.111111\n",
              "S_10     10  0.083333\n",
              "S_11     11  0.055556\n",
              "S_12     12  0.027778"
            ],
            "text/html": [
              "\n",
              "  <div id=\"df-aa53e3be-60eb-45a5-9280-ccaa06483c99\" class=\"colab-df-container\">\n",
              "    <div>\n",
              "<style scoped>\n",
              "    .dataframe tbody tr th:only-of-type {\n",
              "        vertical-align: middle;\n",
              "    }\n",
              "\n",
              "    .dataframe tbody tr th {\n",
              "        vertical-align: top;\n",
              "    }\n",
              "\n",
              "    .dataframe thead th {\n",
              "        text-align: right;\n",
              "    }\n",
              "</style>\n",
              "<table border=\"1\" class=\"dataframe\">\n",
              "  <thead>\n",
              "    <tr style=\"text-align: right;\">\n",
              "      <th></th>\n",
              "      <th>rango</th>\n",
              "      <th>densidad</th>\n",
              "    </tr>\n",
              "  </thead>\n",
              "  <tbody>\n",
              "    <tr>\n",
              "      <th>S_2</th>\n",
              "      <td>2</td>\n",
              "      <td>0.027778</td>\n",
              "    </tr>\n",
              "    <tr>\n",
              "      <th>S_3</th>\n",
              "      <td>3</td>\n",
              "      <td>0.055556</td>\n",
              "    </tr>\n",
              "    <tr>\n",
              "      <th>S_4</th>\n",
              "      <td>4</td>\n",
              "      <td>0.083333</td>\n",
              "    </tr>\n",
              "    <tr>\n",
              "      <th>S_5</th>\n",
              "      <td>5</td>\n",
              "      <td>0.111111</td>\n",
              "    </tr>\n",
              "    <tr>\n",
              "      <th>S_6</th>\n",
              "      <td>6</td>\n",
              "      <td>0.138889</td>\n",
              "    </tr>\n",
              "    <tr>\n",
              "      <th>S_7</th>\n",
              "      <td>7</td>\n",
              "      <td>0.166667</td>\n",
              "    </tr>\n",
              "    <tr>\n",
              "      <th>S_8</th>\n",
              "      <td>8</td>\n",
              "      <td>0.138889</td>\n",
              "    </tr>\n",
              "    <tr>\n",
              "      <th>S_9</th>\n",
              "      <td>9</td>\n",
              "      <td>0.111111</td>\n",
              "    </tr>\n",
              "    <tr>\n",
              "      <th>S_10</th>\n",
              "      <td>10</td>\n",
              "      <td>0.083333</td>\n",
              "    </tr>\n",
              "    <tr>\n",
              "      <th>S_11</th>\n",
              "      <td>11</td>\n",
              "      <td>0.055556</td>\n",
              "    </tr>\n",
              "    <tr>\n",
              "      <th>S_12</th>\n",
              "      <td>12</td>\n",
              "      <td>0.027778</td>\n",
              "    </tr>\n",
              "  </tbody>\n",
              "</table>\n",
              "</div>\n",
              "    <div class=\"colab-df-buttons\">\n",
              "\n",
              "  <div class=\"colab-df-container\">\n",
              "    <button class=\"colab-df-convert\" onclick=\"convertToInteractive('df-aa53e3be-60eb-45a5-9280-ccaa06483c99')\"\n",
              "            title=\"Convert this dataframe to an interactive table.\"\n",
              "            style=\"display:none;\">\n",
              "\n",
              "  <svg xmlns=\"http://www.w3.org/2000/svg\" height=\"24px\" viewBox=\"0 -960 960 960\">\n",
              "    <path d=\"M120-120v-720h720v720H120Zm60-500h600v-160H180v160Zm220 220h160v-160H400v160Zm0 220h160v-160H400v160ZM180-400h160v-160H180v160Zm440 0h160v-160H620v160ZM180-180h160v-160H180v160Zm440 0h160v-160H620v160Z\"/>\n",
              "  </svg>\n",
              "    </button>\n",
              "\n",
              "  <style>\n",
              "    .colab-df-container {\n",
              "      display:flex;\n",
              "      gap: 12px;\n",
              "    }\n",
              "\n",
              "    .colab-df-convert {\n",
              "      background-color: #E8F0FE;\n",
              "      border: none;\n",
              "      border-radius: 50%;\n",
              "      cursor: pointer;\n",
              "      display: none;\n",
              "      fill: #1967D2;\n",
              "      height: 32px;\n",
              "      padding: 0 0 0 0;\n",
              "      width: 32px;\n",
              "    }\n",
              "\n",
              "    .colab-df-convert:hover {\n",
              "      background-color: #E2EBFA;\n",
              "      box-shadow: 0px 1px 2px rgba(60, 64, 67, 0.3), 0px 1px 3px 1px rgba(60, 64, 67, 0.15);\n",
              "      fill: #174EA6;\n",
              "    }\n",
              "\n",
              "    .colab-df-buttons div {\n",
              "      margin-bottom: 4px;\n",
              "    }\n",
              "\n",
              "    [theme=dark] .colab-df-convert {\n",
              "      background-color: #3B4455;\n",
              "      fill: #D2E3FC;\n",
              "    }\n",
              "\n",
              "    [theme=dark] .colab-df-convert:hover {\n",
              "      background-color: #434B5C;\n",
              "      box-shadow: 0px 1px 3px 1px rgba(0, 0, 0, 0.15);\n",
              "      filter: drop-shadow(0px 1px 2px rgba(0, 0, 0, 0.3));\n",
              "      fill: #FFFFFF;\n",
              "    }\n",
              "  </style>\n",
              "\n",
              "    <script>\n",
              "      const buttonEl =\n",
              "        document.querySelector('#df-aa53e3be-60eb-45a5-9280-ccaa06483c99 button.colab-df-convert');\n",
              "      buttonEl.style.display =\n",
              "        google.colab.kernel.accessAllowed ? 'block' : 'none';\n",
              "\n",
              "      async function convertToInteractive(key) {\n",
              "        const element = document.querySelector('#df-aa53e3be-60eb-45a5-9280-ccaa06483c99');\n",
              "        const dataTable =\n",
              "          await google.colab.kernel.invokeFunction('convertToInteractive',\n",
              "                                                    [key], {});\n",
              "        if (!dataTable) return;\n",
              "\n",
              "        const docLinkHtml = 'Like what you see? Visit the ' +\n",
              "          '<a target=\"_blank\" href=https://colab.research.google.com/notebooks/data_table.ipynb>data table notebook</a>'\n",
              "          + ' to learn more about interactive tables.';\n",
              "        element.innerHTML = '';\n",
              "        dataTable['output_type'] = 'display_data';\n",
              "        await google.colab.output.renderOutput(dataTable, element);\n",
              "        const docLink = document.createElement('div');\n",
              "        docLink.innerHTML = docLinkHtml;\n",
              "        element.appendChild(docLink);\n",
              "      }\n",
              "    </script>\n",
              "  </div>\n",
              "\n",
              "\n",
              "<div id=\"df-3d14dfb6-407c-4248-a454-a145383a7467\">\n",
              "  <button class=\"colab-df-quickchart\" onclick=\"quickchart('df-3d14dfb6-407c-4248-a454-a145383a7467')\"\n",
              "            title=\"Suggest charts\"\n",
              "            style=\"display:none;\">\n",
              "\n",
              "<svg xmlns=\"http://www.w3.org/2000/svg\" height=\"24px\"viewBox=\"0 0 24 24\"\n",
              "     width=\"24px\">\n",
              "    <g>\n",
              "        <path d=\"M19 3H5c-1.1 0-2 .9-2 2v14c0 1.1.9 2 2 2h14c1.1 0 2-.9 2-2V5c0-1.1-.9-2-2-2zM9 17H7v-7h2v7zm4 0h-2V7h2v10zm4 0h-2v-4h2v4z\"/>\n",
              "    </g>\n",
              "</svg>\n",
              "  </button>\n",
              "\n",
              "<style>\n",
              "  .colab-df-quickchart {\n",
              "      --bg-color: #E8F0FE;\n",
              "      --fill-color: #1967D2;\n",
              "      --hover-bg-color: #E2EBFA;\n",
              "      --hover-fill-color: #174EA6;\n",
              "      --disabled-fill-color: #AAA;\n",
              "      --disabled-bg-color: #DDD;\n",
              "  }\n",
              "\n",
              "  [theme=dark] .colab-df-quickchart {\n",
              "      --bg-color: #3B4455;\n",
              "      --fill-color: #D2E3FC;\n",
              "      --hover-bg-color: #434B5C;\n",
              "      --hover-fill-color: #FFFFFF;\n",
              "      --disabled-bg-color: #3B4455;\n",
              "      --disabled-fill-color: #666;\n",
              "  }\n",
              "\n",
              "  .colab-df-quickchart {\n",
              "    background-color: var(--bg-color);\n",
              "    border: none;\n",
              "    border-radius: 50%;\n",
              "    cursor: pointer;\n",
              "    display: none;\n",
              "    fill: var(--fill-color);\n",
              "    height: 32px;\n",
              "    padding: 0;\n",
              "    width: 32px;\n",
              "  }\n",
              "\n",
              "  .colab-df-quickchart:hover {\n",
              "    background-color: var(--hover-bg-color);\n",
              "    box-shadow: 0 1px 2px rgba(60, 64, 67, 0.3), 0 1px 3px 1px rgba(60, 64, 67, 0.15);\n",
              "    fill: var(--button-hover-fill-color);\n",
              "  }\n",
              "\n",
              "  .colab-df-quickchart-complete:disabled,\n",
              "  .colab-df-quickchart-complete:disabled:hover {\n",
              "    background-color: var(--disabled-bg-color);\n",
              "    fill: var(--disabled-fill-color);\n",
              "    box-shadow: none;\n",
              "  }\n",
              "\n",
              "  .colab-df-spinner {\n",
              "    border: 2px solid var(--fill-color);\n",
              "    border-color: transparent;\n",
              "    border-bottom-color: var(--fill-color);\n",
              "    animation:\n",
              "      spin 1s steps(1) infinite;\n",
              "  }\n",
              "\n",
              "  @keyframes spin {\n",
              "    0% {\n",
              "      border-color: transparent;\n",
              "      border-bottom-color: var(--fill-color);\n",
              "      border-left-color: var(--fill-color);\n",
              "    }\n",
              "    20% {\n",
              "      border-color: transparent;\n",
              "      border-left-color: var(--fill-color);\n",
              "      border-top-color: var(--fill-color);\n",
              "    }\n",
              "    30% {\n",
              "      border-color: transparent;\n",
              "      border-left-color: var(--fill-color);\n",
              "      border-top-color: var(--fill-color);\n",
              "      border-right-color: var(--fill-color);\n",
              "    }\n",
              "    40% {\n",
              "      border-color: transparent;\n",
              "      border-right-color: var(--fill-color);\n",
              "      border-top-color: var(--fill-color);\n",
              "    }\n",
              "    60% {\n",
              "      border-color: transparent;\n",
              "      border-right-color: var(--fill-color);\n",
              "    }\n",
              "    80% {\n",
              "      border-color: transparent;\n",
              "      border-right-color: var(--fill-color);\n",
              "      border-bottom-color: var(--fill-color);\n",
              "    }\n",
              "    90% {\n",
              "      border-color: transparent;\n",
              "      border-bottom-color: var(--fill-color);\n",
              "    }\n",
              "  }\n",
              "</style>\n",
              "\n",
              "  <script>\n",
              "    async function quickchart(key) {\n",
              "      const quickchartButtonEl =\n",
              "        document.querySelector('#' + key + ' button');\n",
              "      quickchartButtonEl.disabled = true;  // To prevent multiple clicks.\n",
              "      quickchartButtonEl.classList.add('colab-df-spinner');\n",
              "      try {\n",
              "        const charts = await google.colab.kernel.invokeFunction(\n",
              "            'suggestCharts', [key], {});\n",
              "      } catch (error) {\n",
              "        console.error('Error during call to suggestCharts:', error);\n",
              "      }\n",
              "      quickchartButtonEl.classList.remove('colab-df-spinner');\n",
              "      quickchartButtonEl.classList.add('colab-df-quickchart-complete');\n",
              "    }\n",
              "    (() => {\n",
              "      let quickchartButtonEl =\n",
              "        document.querySelector('#df-3d14dfb6-407c-4248-a454-a145383a7467 button');\n",
              "      quickchartButtonEl.style.display =\n",
              "        google.colab.kernel.accessAllowed ? 'block' : 'none';\n",
              "    })();\n",
              "  </script>\n",
              "</div>\n",
              "\n",
              "  <div id=\"id_5b43b274-160f-4e43-9044-96a107b61390\">\n",
              "    <style>\n",
              "      .colab-df-generate {\n",
              "        background-color: #E8F0FE;\n",
              "        border: none;\n",
              "        border-radius: 50%;\n",
              "        cursor: pointer;\n",
              "        display: none;\n",
              "        fill: #1967D2;\n",
              "        height: 32px;\n",
              "        padding: 0 0 0 0;\n",
              "        width: 32px;\n",
              "      }\n",
              "\n",
              "      .colab-df-generate:hover {\n",
              "        background-color: #E2EBFA;\n",
              "        box-shadow: 0px 1px 2px rgba(60, 64, 67, 0.3), 0px 1px 3px 1px rgba(60, 64, 67, 0.15);\n",
              "        fill: #174EA6;\n",
              "      }\n",
              "\n",
              "      [theme=dark] .colab-df-generate {\n",
              "        background-color: #3B4455;\n",
              "        fill: #D2E3FC;\n",
              "      }\n",
              "\n",
              "      [theme=dark] .colab-df-generate:hover {\n",
              "        background-color: #434B5C;\n",
              "        box-shadow: 0px 1px 3px 1px rgba(0, 0, 0, 0.15);\n",
              "        filter: drop-shadow(0px 1px 2px rgba(0, 0, 0, 0.3));\n",
              "        fill: #FFFFFF;\n",
              "      }\n",
              "    </style>\n",
              "    <button class=\"colab-df-generate\" onclick=\"generateWithVariable('lS')\"\n",
              "            title=\"Generate code using this dataframe.\"\n",
              "            style=\"display:none;\">\n",
              "\n",
              "  <svg xmlns=\"http://www.w3.org/2000/svg\" height=\"24px\"viewBox=\"0 0 24 24\"\n",
              "       width=\"24px\">\n",
              "    <path d=\"M7,19H8.4L18.45,9,17,7.55,7,17.6ZM5,21V16.75L18.45,3.32a2,2,0,0,1,2.83,0l1.4,1.43a1.91,1.91,0,0,1,.58,1.4,1.91,1.91,0,0,1-.58,1.4L9.25,21ZM18.45,9,17,7.55Zm-12,3A5.31,5.31,0,0,0,4.9,8.1,5.31,5.31,0,0,0,1,6.5,5.31,5.31,0,0,0,4.9,4.9,5.31,5.31,0,0,0,6.5,1,5.31,5.31,0,0,0,8.1,4.9,5.31,5.31,0,0,0,12,6.5,5.46,5.46,0,0,0,6.5,12Z\"/>\n",
              "  </svg>\n",
              "    </button>\n",
              "    <script>\n",
              "      (() => {\n",
              "      const buttonEl =\n",
              "        document.querySelector('#id_5b43b274-160f-4e43-9044-96a107b61390 button.colab-df-generate');\n",
              "      buttonEl.style.display =\n",
              "        google.colab.kernel.accessAllowed ? 'block' : 'none';\n",
              "\n",
              "      buttonEl.onclick = () => {\n",
              "        google.colab.notebook.generateWithVariable('lS');\n",
              "      }\n",
              "      })();\n",
              "    </script>\n",
              "  </div>\n",
              "\n",
              "    </div>\n",
              "  </div>\n"
            ],
            "application/vnd.google.colaboratory.intrinsic+json": {
              "type": "dataframe",
              "variable_name": "lS",
              "summary": "{\n  \"name\": \"lS\",\n  \"rows\": 11,\n  \"fields\": [\n    {\n      \"column\": \"rango\",\n      \"properties\": {\n        \"dtype\": \"number\",\n        \"std\": 3,\n        \"min\": 2,\n        \"max\": 12,\n        \"num_unique_values\": 11,\n        \"samples\": [\n          7,\n          2,\n          11\n        ],\n        \"semantic_type\": \"\",\n        \"description\": \"\"\n      }\n    },\n    {\n      \"column\": \"densidad\",\n      \"properties\": {\n        \"dtype\": \"number\",\n        \"std\": 0.0466317810924732,\n        \"min\": 0.027777777777777776,\n        \"max\": 0.16666666666666666,\n        \"num_unique_values\": 6,\n        \"samples\": [\n          0.027777777777777776,\n          0.05555555555555555,\n          0.16666666666666666\n        ],\n        \"semantic_type\": \"\",\n        \"description\": \"\"\n      }\n    }\n  ]\n}"
            }
          },
          "metadata": {},
          "execution_count": 44
        }
      ]
    },
    {
      "cell_type": "code",
      "source": [
        "lS.plot.bar( x= 'rango', y = 'densidad')"
      ],
      "metadata": {
        "colab": {
          "base_uri": "https://localhost:8080/",
          "height": 471
        },
        "id": "xBQaljvS3PJx",
        "outputId": "5f24b8d4-9d0e-48c0-ef5e-b5cd4e53e3c7"
      },
      "execution_count": null,
      "outputs": [
        {
          "output_type": "execute_result",
          "data": {
            "text/plain": [
              "<Axes: xlabel='rango'>"
            ]
          },
          "metadata": {},
          "execution_count": 45
        },
        {
          "output_type": "display_data",
          "data": {
            "text/plain": [
              "<Figure size 640x480 with 1 Axes>"
            ],
            "image/png": "[encoded data removed]"
          },
          "metadata": {}
        }
      ]
    },
    {
      "cell_type": "markdown",
      "source": [
        "**Ejerecicio:**Se tienen $2$ urnas, cada una de las cuales contiene $10$ bolas numeradas del $1$ al $10$.\n",
        "\n",
        "Un experimento aleatorio consiste en seleccionar al azar una bola de cada urna.\n",
        "\n",
        "Sea $X$ la variable aleatoria que representa la diferencia de los números de las dos bolas seleccionadas.\n",
        "\n",
        "* Define $\\Omega$\n",
        "* Calcula las probabilidades asociadas\n",
        "* Define la función de densidad\n",
        "* Verifica que $\\sum_{x\\in R_X}f_X(x) = 1$\n",
        "* Gráfica la función de densidad\n",
        "\n",
        "Además, calcula la probabilidad de que los números de las dos bolas seleccionadas difieran por $2$ o más."
      ],
      "metadata": {
        "id": "ZEfIK2nW21L4"
      }
    },
    {
      "cell_type": "markdown",
      "source": [
        " **SOLUCIÓN**\\\n",
        " Sabemos que el espacio muestral es el siguiente:\n",
        "$$\\Omega = \\{(i,j)| i,j \\in \\{1,2,3,4,5,6,7,8,9,10\\} \\}= \\{1,2,3,4,5,6,7,8,9,10\\} \\times \\{1,2,3,4,5,6,7,8,9,10\\}= \\{1,2,3,4,5,6,7,8,9,10\\}^2 $$\n",
        "y además $\\#Omega=10^2 = 100$"
      ],
      "metadata": {
        "id": "53F2LZq54qQ5"
      }
    },
    {
      "cell_type": "code",
      "source": [
        "#Vamos a crear el espacio muestral\n",
        "import itertools\n",
        "from itertools import product\n",
        "omega_dado = set(product([1,2,3,4,5,6,7,8,9,10], repeat=2))\n",
        "omega_dado"
      ],
      "metadata": {
        "colab": {
          "base_uri": "https://localhost:8080/"
        },
        "id": "6afmVnr02nJx",
        "outputId": "3df43bdd-013e-46f7-992b-a6e8402684c4"
      },
      "execution_count": null,
      "outputs": [
        {
          "output_type": "execute_result",
          "data": {
            "text/plain": [
              "{(1, 1),\n",
              " (1, 2),\n",
              " (1, 3),\n",
              " (1, 4),\n",
              " (1, 5),\n",
              " (1, 6),\n",
              " (1, 7),\n",
              " (1, 8),\n",
              " (1, 9),\n",
              " (1, 10),\n",
              " (2, 1),\n",
              " (2, 2),\n",
              " (2, 3),\n",
              " (2, 4),\n",
              " (2, 5),\n",
              " (2, 6),\n",
              " (2, 7),\n",
              " (2, 8),\n",
              " (2, 9),\n",
              " (2, 10),\n",
              " (3, 1),\n",
              " (3, 2),\n",
              " (3, 3),\n",
              " (3, 4),\n",
              " (3, 5),\n",
              " (3, 6),\n",
              " (3, 7),\n",
              " (3, 8),\n",
              " (3, 9),\n",
              " (3, 10),\n",
              " (4, 1),\n",
              " (4, 2),\n",
              " (4, 3),\n",
              " (4, 4),\n",
              " (4, 5),\n",
              " (4, 6),\n",
              " (4, 7),\n",
              " (4, 8),\n",
              " (4, 9),\n",
              " (4, 10),\n",
              " (5, 1),\n",
              " (5, 2),\n",
              " (5, 3),\n",
              " (5, 4),\n",
              " (5, 5),\n",
              " (5, 6),\n",
              " (5, 7),\n",
              " (5, 8),\n",
              " (5, 9),\n",
              " (5, 10),\n",
              " (6, 1),\n",
              " (6, 2),\n",
              " (6, 3),\n",
              " (6, 4),\n",
              " (6, 5),\n",
              " (6, 6),\n",
              " (6, 7),\n",
              " (6, 8),\n",
              " (6, 9),\n",
              " (6, 10),\n",
              " (7, 1),\n",
              " (7, 2),\n",
              " (7, 3),\n",
              " (7, 4),\n",
              " (7, 5),\n",
              " (7, 6),\n",
              " (7, 7),\n",
              " (7, 8),\n",
              " (7, 9),\n",
              " (7, 10),\n",
              " (8, 1),\n",
              " (8, 2),\n",
              " (8, 3),\n",
              " (8, 4),\n",
              " (8, 5),\n",
              " (8, 6),\n",
              " (8, 7),\n",
              " (8, 8),\n",
              " (8, 9),\n",
              " (8, 10),\n",
              " (9, 1),\n",
              " (9, 2),\n",
              " (9, 3),\n",
              " (9, 4),\n",
              " (9, 5),\n",
              " (9, 6),\n",
              " (9, 7),\n",
              " (9, 8),\n",
              " (9, 9),\n",
              " (9, 10),\n",
              " (10, 1),\n",
              " (10, 2),\n",
              " (10, 3),\n",
              " (10, 4),\n",
              " (10, 5),\n",
              " (10, 6),\n",
              " (10, 7),\n",
              " (10, 8),\n",
              " (10, 9),\n",
              " (10, 10)}"
            ]
          },
          "metadata": {},
          "execution_count": 46
        }
      ]
    },
    {
      "cell_type": "code",
      "source": [
        "card_omega_dado= len(omega_dado)\n",
        "card_omega_dado"
      ],
      "metadata": {
        "colab": {
          "base_uri": "https://localhost:8080/"
        },
        "id": "leCcdAEM4zLE",
        "outputId": "9c1742ef-9e96-41c9-bf5f-3f49c45f709d"
      },
      "execution_count": null,
      "outputs": [
        {
          "output_type": "execute_result",
          "data": {
            "text/plain": [
              "100"
            ]
          },
          "metadata": {},
          "execution_count": 47
        }
      ]
    },
    {
      "cell_type": "markdown",
      "source": [
        "* 2: Cálculo de probabilidades asociadas: \\\n",
        "La variable aleatoria $X$ representa la diferencia entre los números de las 2 bolas, es decir, $X = |a-b|$. Los posibles valores de X son $0,1,..., 9$"
      ],
      "metadata": {
        "id": "k9nTzICR48sx"
      }
    },
    {
      "cell_type": "code",
      "source": [
        "#Vamos a calcular las probabilidades\n",
        "def calcular_probabilidades():\n",
        "    \"\"\"Calcula las probabilidades de las diferencias.\"\"\"\n",
        "    resultados = {}\n",
        "    for i in range(1, 11): #Esto porque i y j van de 1 a 10\n",
        "        for j in range(1, 11):\n",
        "            diferencia = abs(i - j)\n",
        "            if diferencia not in resultados:\n",
        "                resultados[diferencia] = 0\n",
        "            resultados[diferencia] += 1\n",
        "\n",
        "    total_resultados = 100\n",
        "    probabilidades = {k: v / total_resultados for k, v in resultados.items()} #V es el número de veces que aparece la diferencia y k la diferencia\n",
        "    #Probabilidades es {diferencia, probabilidad}= {k:v/total_resultados}\n",
        "    return probabilidades"
      ],
      "metadata": {
        "id": "SRBqJVz74-Ua"
      },
      "execution_count": null,
      "outputs": []
    },
    {
      "cell_type": "code",
      "source": [
        "probabilidades = calcular_probabilidades()\n",
        "print(probabilidades)"
      ],
      "metadata": {
        "colab": {
          "base_uri": "https://localhost:8080/"
        },
        "id": "JzK9D4YK44dI",
        "outputId": "bc3f2646-c88f-445c-f5d1-8d9e5267b98d"
      },
      "execution_count": null,
      "outputs": [
        {
          "output_type": "stream",
          "name": "stdout",
          "text": [
            "{0: 0.1, 1: 0.18, 2: 0.16, 3: 0.14, 4: 0.12, 5: 0.1, 6: 0.08, 7: 0.06, 8: 0.04, 9: 0.02}\n"
          ]
        }
      ]
    },
    {
      "cell_type": "code",
      "source": [
        "probabilidades = calcular_probabilidades()\n",
        "print(\"Probabilidades:\")\n",
        "for diferencia, probabilidad in probabilidades.items():\n",
        "    print(f\"X = {diferencia}: {probabilidad}\")"
      ],
      "metadata": {
        "colab": {
          "base_uri": "https://localhost:8080/"
        },
        "id": "hqhqWWdw5Kst",
        "outputId": "9b0fef61-0912-439d-e39e-670513196d1e"
      },
      "execution_count": null,
      "outputs": [
        {
          "output_type": "stream",
          "name": "stdout",
          "text": [
            "Probabilidades:\n",
            "X = 0: 0.1\n",
            "X = 1: 0.18\n",
            "X = 2: 0.16\n",
            "X = 3: 0.14\n",
            "X = 4: 0.12\n",
            "X = 5: 0.1\n",
            "X = 6: 0.08\n",
            "X = 7: 0.06\n",
            "X = 8: 0.04\n",
            "X = 9: 0.02\n"
          ]
        }
      ]
    },
    {
      "cell_type": "markdown",
      "source": [
        "* **Define la función de Densiad**:\n",
        "Recordemos que una variable aleatoria real $X$, es una función\n",
        "$$ X : \\Omega \\to \\mathbb{R}$$\n",
        "y sabemos que la función de densidad de una v.a. discreta $X$ se define como sigue:\n",
        "$$ f_X(x) = \\begin{cases} \\mathbb{P} (X=x), \\quad \\text{si } x\\in R_{X}  \\\\ 0, \\quad \\text{e.o.c} \\end{cases} $$\n",
        "donde $R_{X}$ es el rango de la v.a. $X$.\\\n",
        "Para nuestro evento $S_n$ se tiene la siguiente v.a.\n",
        "$$ X : \\Omega \\to \\{0,1,2,3,4,5,6,7,8,9\\}$$"
      ],
      "metadata": {
        "id": "J4jG1vpe5O_B"
      }
    },
    {
      "cell_type": "markdown",
      "source": [
        "* **Verifica que $\\sum_{x\\in R_X}f_X(x) = 1$**"
      ],
      "metadata": {
        "id": "YQE_3ZKK5Q5Z"
      }
    },
    {
      "cell_type": "code",
      "source": [
        "def verificar_suma(probabilidades):\n",
        "    \"\"\"Verifica que la suma de las probabilidades es 1.\"\"\"\n",
        "    suma_probabilidades = sum(probabilidades.values())\n",
        "    return suma_probabilidades == 1.0"
      ],
      "metadata": {
        "id": "3PFZhMrt5VPR"
      },
      "execution_count": null,
      "outputs": []
    },
    {
      "cell_type": "code",
      "source": [
        "# Verificar la suma de probabilidades\n",
        "suma_correcta = verificar_suma(probabilidades)\n",
        "print(f\"\\nLa suma de las probabilidades es 1: {suma_correcta}\")"
      ],
      "metadata": {
        "colab": {
          "base_uri": "https://localhost:8080/"
        },
        "id": "-3ors7Ha5esU",
        "outputId": "d8e1e4a7-afcc-4308-fd33-3bb38d808e20"
      },
      "execution_count": null,
      "outputs": [
        {
          "output_type": "stream",
          "name": "stdout",
          "text": [
            "\n",
            "La suma de las probabilidades es 1: True\n"
          ]
        }
      ]
    },
    {
      "cell_type": "code",
      "source": [
        "import matplotlib.pyplot as plt\n",
        "def graficar_probabilidades(probabilidades):\n",
        "    \"\"\"Grafica las probabilidades.\"\"\"\n",
        "    x = list(probabilidades.keys())\n",
        "    y = list(probabilidades.values())\n",
        "    plt.bar(x, y)\n",
        "    plt.xlabel('Diferencia (X)')\n",
        "    plt.ylabel('Probabilidad')\n",
        "    plt.title('Función de Densidad de Probabilidad')\n",
        "    plt.xticks(range(10))\n",
        "    plt.show()\n",
        "graficar_probabilidades(probabilidades)"
      ],
      "metadata": {
        "colab": {
          "base_uri": "https://localhost:8080/",
          "height": 472
        },
        "id": "SsMnANuD5kVx",
        "outputId": "cd57127d-584d-44e6-cec7-26ea6ca68c4a"
      },
      "execution_count": null,
      "outputs": [
        {
          "output_type": "display_data",
          "data": {
            "text/plain": [
              "<Figure size 640x480 with 1 Axes>"
            ],
            "image/png": "[encoded data removed]"
          },
          "metadata": {}
        }
      ]
    },
    {
      "cell_type": "markdown",
      "source": [
        " * **Calcula la probabilidad de que los números de las dos bolas seleccionadas difieran por $2$ o más.**"
      ],
      "metadata": {
        "id": "e996dX1-5uNo"
      }
    },
    {
      "cell_type": "code",
      "source": [],
      "metadata": {
        "id": "Aa-I2JYx5vfw"
      },
      "execution_count": null,
      "outputs": []
    },
    {
      "cell_type": "markdown",
      "source": [],
      "metadata": {
        "id": "yQSl_Q25z6g6"
      }
    },
    {
      "cell_type": "markdown",
      "source": [],
      "metadata": {
        "id": "x91gwjDetvtP"
      }
    },
    {
      "cell_type": "markdown",
      "source": [],
      "metadata": {
        "id": "15FcB1HRn2Oe"
      }
    }
  ]
}
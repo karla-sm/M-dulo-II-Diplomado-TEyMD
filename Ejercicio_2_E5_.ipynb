{
  "nbformat": 4,
  "nbformat_minor": 0,
  "metadata": {
    "colab": {
      "provenance": [],
      "authorship_tag": "ABX9TyPazWowMSm10+htEXVB0bxj",
      "include_colab_link": true
    },
    "kernelspec": {
      "name": "python3",
      "display_name": "Python 3"
    },
    "language_info": {
      "name": "python"
    }
  },
  "cells": [
    {
      "cell_type": "markdown",
      "metadata": {
        "id": "view-in-github",
        "colab_type": "text"
      },
      "source": [
        "<a href=\"https://colab.research.google.com/github/karla-sm/M-dulo-II-Diplomado-TEyMD/blob/main/Ejercicio_2_E5_.ipynb\" target=\"_parent\"><img src=\"https://colab.research.google.com/assets/colab-badge.svg\" alt=\"Open In Colab\"/></a>"
      ]
    },
    {
      "cell_type": "code",
      "execution_count": null,
      "metadata": {
        "id": "lArgKgpLdjp6"
      },
      "outputs": [],
      "source": []
    },
    {
      "cell_type": "markdown",
      "source": [
        "# **EJERCICIO 2**"
      ],
      "metadata": {
        "id": "e9FJJAplobs5"
      }
    },
    {
      "cell_type": "markdown",
      "source": [
        "Equipo 5, integrantes:\n",
        "* Omar Misael Valero Silva\n",
        "* Karla Anahí Sánchez Morales\n",
        "* Karol Jacqueline Nolasco Reyes\n",
        "* David Mendieta Lopez\n",
        "* César Gabriel López López"
      ],
      "metadata": {
        "id": "piJP0L7VoIH0"
      }
    },
    {
      "cell_type": "markdown",
      "source": [
        "Se tienen $2$ urnas, cada una de las cuales contiene $10$ bolas numeradas del $1$ al $10$.\n",
        "\n",
        "Un experimento aleatorio consiste en seleccionar al azar una bola de cada urna.\n",
        "\n",
        "Sea $X$ la variable aleatoria que representa la diferencia de los números de las dos bolas seleccionadas.\n",
        "\n",
        "* Define $\\Omega$\n",
        "* Calcula las probabilidades asociadas\n",
        "* Define la función de densidad\n",
        "* Verifica que $\\sum_{x\\in R_X}f_X(x) = 1$\n",
        "* Gráfica la función de densidad\n",
        "\n",
        "Además, calcula la probabilidad de que los números de las dos bolas seleccionadas difieran por $2$ o más."
      ],
      "metadata": {
        "id": "Hujhdk4EdpIQ"
      }
    },
    {
      "cell_type": "markdown",
      "source": [
        " **SOLUCIÓN**\\\n",
        " Sabemos que el espacio muestral es el siguiente:\n",
        "$$\\Omega = \\{(i,j)| i,j \\in \\{1,2,3,4,5,6,7,8,9,10\\} \\}= \\{1,2,3,4,5,6,7,8,9,10\\} \\times \\{1,2,3,4,5,6,7,8,9,10\\}= \\{1,2,3,4,5,6,7,8,9,10\\}^2 $$\n",
        "y además $\\#Omega=10^2 = 100$"
      ],
      "metadata": {
        "id": "5xuYx1JSdqlv"
      }
    },
    {
      "cell_type": "code",
      "source": [
        "#Vamos a crear el espacio muestral\n",
        "import itertools\n",
        "from itertools import product\n",
        "omega_dado = set(product([1,2,3,4,5,6,7,8,9,10], repeat=2))\n",
        "omega_dado"
      ],
      "metadata": {
        "colab": {
          "base_uri": "https://localhost:8080/"
        },
        "id": "f9cSkQZ_dvHk",
        "outputId": "03502608-b9d6-4479-8ef8-4264c8bf5a79"
      },
      "execution_count": null,
      "outputs": [
        {
          "output_type": "execute_result",
          "data": {
            "text/plain": [
              "{(1, 1),\n",
              " (1, 2),\n",
              " (1, 3),\n",
              " (1, 4),\n",
              " (1, 5),\n",
              " (1, 6),\n",
              " (1, 7),\n",
              " (1, 8),\n",
              " (1, 9),\n",
              " (1, 10),\n",
              " (2, 1),\n",
              " (2, 2),\n",
              " (2, 3),\n",
              " (2, 4),\n",
              " (2, 5),\n",
              " (2, 6),\n",
              " (2, 7),\n",
              " (2, 8),\n",
              " (2, 9),\n",
              " (2, 10),\n",
              " (3, 1),\n",
              " (3, 2),\n",
              " (3, 3),\n",
              " (3, 4),\n",
              " (3, 5),\n",
              " (3, 6),\n",
              " (3, 7),\n",
              " (3, 8),\n",
              " (3, 9),\n",
              " (3, 10),\n",
              " (4, 1),\n",
              " (4, 2),\n",
              " (4, 3),\n",
              " (4, 4),\n",
              " (4, 5),\n",
              " (4, 6),\n",
              " (4, 7),\n",
              " (4, 8),\n",
              " (4, 9),\n",
              " (4, 10),\n",
              " (5, 1),\n",
              " (5, 2),\n",
              " (5, 3),\n",
              " (5, 4),\n",
              " (5, 5),\n",
              " (5, 6),\n",
              " (5, 7),\n",
              " (5, 8),\n",
              " (5, 9),\n",
              " (5, 10),\n",
              " (6, 1),\n",
              " (6, 2),\n",
              " (6, 3),\n",
              " (6, 4),\n",
              " (6, 5),\n",
              " (6, 6),\n",
              " (6, 7),\n",
              " (6, 8),\n",
              " (6, 9),\n",
              " (6, 10),\n",
              " (7, 1),\n",
              " (7, 2),\n",
              " (7, 3),\n",
              " (7, 4),\n",
              " (7, 5),\n",
              " (7, 6),\n",
              " (7, 7),\n",
              " (7, 8),\n",
              " (7, 9),\n",
              " (7, 10),\n",
              " (8, 1),\n",
              " (8, 2),\n",
              " (8, 3),\n",
              " (8, 4),\n",
              " (8, 5),\n",
              " (8, 6),\n",
              " (8, 7),\n",
              " (8, 8),\n",
              " (8, 9),\n",
              " (8, 10),\n",
              " (9, 1),\n",
              " (9, 2),\n",
              " (9, 3),\n",
              " (9, 4),\n",
              " (9, 5),\n",
              " (9, 6),\n",
              " (9, 7),\n",
              " (9, 8),\n",
              " (9, 9),\n",
              " (9, 10),\n",
              " (10, 1),\n",
              " (10, 2),\n",
              " (10, 3),\n",
              " (10, 4),\n",
              " (10, 5),\n",
              " (10, 6),\n",
              " (10, 7),\n",
              " (10, 8),\n",
              " (10, 9),\n",
              " (10, 10)}"
            ]
          },
          "metadata": {},
          "execution_count": 2
        }
      ]
    },
    {
      "cell_type": "code",
      "source": [
        "card_omega_dado= len(omega_dado)\n",
        "card_omega_dado"
      ],
      "metadata": {
        "colab": {
          "base_uri": "https://localhost:8080/"
        },
        "id": "VTjczB70eeh2",
        "outputId": "06841025-bee3-490f-9898-b9ef5698c744"
      },
      "execution_count": null,
      "outputs": [
        {
          "output_type": "execute_result",
          "data": {
            "text/plain": [
              "100"
            ]
          },
          "metadata": {},
          "execution_count": 5
        }
      ]
    },
    {
      "cell_type": "markdown",
      "source": [
        "* 2: Cálculo de probabilidades asociadas: \\\n",
        "La variable aleatoria $X$ representa la diferencia entre los números de las 2 bolas, es decir, $X = |a-b|$. Los posibles valores de X son $0,1,..., 9$"
      ],
      "metadata": {
        "id": "yhTdzUcIeIlq"
      }
    },
    {
      "cell_type": "code",
      "source": [
        "#Vamos a calcular las probabilidades\n",
        "def calcular_probabilidades():\n",
        "    \"\"\"Calcula las probabilidades de las diferencias.\"\"\"\n",
        "    resultados = {}\n",
        "    for i in range(1, 11): #Esto porque i y j van de 1 a 10\n",
        "        for j in range(1, 11):\n",
        "            diferencia = abs(i - j)\n",
        "            if diferencia not in resultados:\n",
        "                resultados[diferencia] = 0\n",
        "            resultados[diferencia] += 1\n",
        "\n",
        "    total_resultados = 100\n",
        "    probabilidades = {k: v / total_resultados for k, v in resultados.items()} #V es el número de veces que aparece la diferencia y k la diferencia\n",
        "    #Probabilidades es {diferencia, probabilidad}= {k:v/total_resultados}\n",
        "    return probabilidades"
      ],
      "metadata": {
        "id": "NlIeKs9ffnxh"
      },
      "execution_count": null,
      "outputs": []
    },
    {
      "cell_type": "code",
      "source": [
        "probabilidades = calcular_probabilidades()\n",
        "print(probabilidades)"
      ],
      "metadata": {
        "colab": {
          "base_uri": "https://localhost:8080/"
        },
        "id": "HTu1nrTteMj-",
        "outputId": "01b20c0f-9536-4bd9-8728-7a2687d631e3"
      },
      "execution_count": null,
      "outputs": [
        {
          "output_type": "stream",
          "name": "stdout",
          "text": [
            "{0: 0.1, 1: 0.18, 2: 0.16, 3: 0.14, 4: 0.12, 5: 0.1, 6: 0.08, 7: 0.06, 8: 0.04, 9: 0.02}\n"
          ]
        }
      ]
    },
    {
      "cell_type": "code",
      "source": [
        "probabilidades = calcular_probabilidades()\n",
        "print(\"Probabilidades:\")\n",
        "for diferencia, probabilidad in probabilidades.items():\n",
        "    print(f\"X = {diferencia}: {probabilidad}\")"
      ],
      "metadata": {
        "colab": {
          "base_uri": "https://localhost:8080/"
        },
        "id": "dEFZ6wsDnHay",
        "outputId": "4c34c150-e741-4e9f-91be-f50fdd16d8b0"
      },
      "execution_count": null,
      "outputs": [
        {
          "output_type": "stream",
          "name": "stdout",
          "text": [
            "Probabilidades:\n",
            "X = 0: 0.1\n",
            "X = 1: 0.18\n",
            "X = 2: 0.16\n",
            "X = 3: 0.14\n",
            "X = 4: 0.12\n",
            "X = 5: 0.1\n",
            "X = 6: 0.08\n",
            "X = 7: 0.06\n",
            "X = 8: 0.04\n",
            "X = 9: 0.02\n"
          ]
        }
      ]
    },
    {
      "cell_type": "markdown",
      "source": [
        "* **Define la función de Densiad**:\n",
        "Recordemos que una variable aleatoria real $X$, es una función\n",
        "$$ X : \\Omega \\to \\mathbb{R}$$\n",
        "y sabemos que la función de densidad de una v.a. discreta $X$ se define como sigue:\n",
        "$$ f_X(x) = \\begin{cases} \\mathbb{P} (X=x), \\quad \\text{si } x\\in R_{X}  \\\\ 0, \\quad \\text{e.o.c} \\end{cases} $$\n",
        "donde $R_{X}$ es el rango de la v.a. $X$.\\\n",
        "Para nuestro evento $S_n$ se tiene la siguiente v.a.\n",
        "$$ X : \\Omega \\to \\{0,1,2,3,4,5,6,7,8,9\\}$$"
      ],
      "metadata": {
        "id": "mRgDui01i5pq"
      }
    },
    {
      "cell_type": "markdown",
      "source": [
        "* **Verifica que $\\sum_{x\\in R_X}f_X(x) = 1$**"
      ],
      "metadata": {
        "id": "B5GQ_oJqjz_H"
      }
    },
    {
      "cell_type": "code",
      "source": [
        "def verificar_suma(probabilidades):\n",
        "    \"\"\"Verifica que la suma de las probabilidades es 1.\"\"\"\n",
        "    suma_probabilidades = sum(probabilidades.values())\n",
        "    return suma_probabilidades == 1.0"
      ],
      "metadata": {
        "id": "QC-b9v3Aj8m1"
      },
      "execution_count": null,
      "outputs": []
    },
    {
      "cell_type": "code",
      "source": [
        "\n",
        "# Verificar la suma de probabilidades\n",
        "suma_correcta = verificar_suma(probabilidades)\n",
        "print(f\"\\nLa suma de las probabilidades es 1: {suma_correcta}\")"
      ],
      "metadata": {
        "colab": {
          "base_uri": "https://localhost:8080/"
        },
        "id": "YB49jg_ukmSO",
        "outputId": "bb08fca5-cd65-446a-8b61-cffd28d1a8d1"
      },
      "execution_count": null,
      "outputs": [
        {
          "output_type": "stream",
          "name": "stdout",
          "text": [
            "\n",
            "La suma de las probabilidades es 1: True\n"
          ]
        }
      ]
    },
    {
      "cell_type": "markdown",
      "source": [
        "* **Gráfica la función de densidad**"
      ],
      "metadata": {
        "id": "uVVPsx4Hk4kQ"
      }
    },
    {
      "cell_type": "code",
      "source": [
        "import matplotlib.pyplot as plt\n",
        "def graficar_probabilidades(probabilidades):\n",
        "    \"\"\"Grafica las probabilidades.\"\"\"\n",
        "    x = list(probabilidades.keys())\n",
        "    y = list(probabilidades.values())\n",
        "    plt.bar(x, y)\n",
        "    plt.xlabel('Diferencia (X)')\n",
        "    plt.ylabel('Probabilidad')\n",
        "    plt.title('Función de Densidad de Probabilidad')\n",
        "    plt.xticks(range(10))\n",
        "    plt.show()"
      ],
      "metadata": {
        "id": "FBxzeOwlk1fg"
      },
      "execution_count": null,
      "outputs": []
    },
    {
      "cell_type": "code",
      "source": [
        "graficar_probabilidades(probabilidades)"
      ],
      "metadata": {
        "colab": {
          "base_uri": "https://localhost:8080/",
          "height": 472
        },
        "id": "FGH9chxElJKF",
        "outputId": "e357e5f4-f7f2-436a-de5f-40bacf6da158"
      },
      "execution_count": null,
      "outputs": [
        {
          "output_type": "display_data",
          "data": {
            "text/plain": [
              "<Figure size 640x480 with 1 Axes>"
            ],
            "image/png": "[encoded data removed]"
          },
          "metadata": {}
        }
      ]
    },
    {
      "cell_type": "markdown",
      "source": [
        " * **Calcula la probabilidad de que los números de las dos bolas seleccionadas difieran por $2$ o más.**"
      ],
      "metadata": {
        "id": "1BFSIpEtd0Gq"
      }
    },
    {
      "cell_type": "code",
      "source": [
        "def calcular_probabilidad_mayor_igual_2(probabilidades):\n",
        "    \"\"\"Calcula la probabilidad de que la diferencia sea 2 o más.\"\"\"\n",
        "    probabilidad = sum(probabilidades[i] for i in range(2, 10))\n",
        "    return probabilidad"
      ],
      "metadata": {
        "id": "thq27xDblpmh"
      },
      "execution_count": null,
      "outputs": []
    },
    {
      "cell_type": "code",
      "source": [
        "probabilidad_mayor_igual_2 = calcular_probabilidad_mayor_igual_2(probabilidades)\n",
        "print(f\"\\nProbabilidad de que la diferencia sea 2 o más: {probabilidad_mayor_igual_2}\")"
      ],
      "metadata": {
        "colab": {
          "base_uri": "https://localhost:8080/"
        },
        "id": "5r9TyS18mqRu",
        "outputId": "55605956-9005-48c9-bafc-283ea3160c98"
      },
      "execution_count": null,
      "outputs": [
        {
          "output_type": "stream",
          "name": "stdout",
          "text": [
            "\n",
            "Probabilidad de que la diferencia sea 2 o más: 0.72\n"
          ]
        }
      ]
    }
  ]
}
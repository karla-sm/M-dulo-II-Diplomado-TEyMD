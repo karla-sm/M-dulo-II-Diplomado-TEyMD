{
  "nbformat": 4,
  "nbformat_minor": 0,
  "metadata": {
    "colab": {
      "provenance": [],
      "authorship_tag": "ABX9TyN7+3E2W7KwXYmioToi2J/6",
      "include_colab_link": true
    },
    "kernelspec": {
      "name": "python3",
      "display_name": "Python 3"
    },
    "language_info": {
      "name": "python"
    }
  },
  "cells": [
    {
      "cell_type": "markdown",
      "metadata": {
        "id": "view-in-github",
        "colab_type": "text"
      },
      "source": [
        "<a href=\"https://colab.research.google.com/github/karla-sm/M-dulo-II-Diplomado-TEyMD/blob/main/Estad%C3%ADstica_inferencial_KASM.ipynb\" target=\"_parent\"><img src=\"https://colab.research.google.com/assets/colab-badge.svg\" alt=\"Open In Colab\"/></a>"
      ]
    },
    {
      "cell_type": "markdown",
      "source": [
        "**Nombre: Karla Anahí Sánchez Morales**"
      ],
      "metadata": {
        "id": "8mWfdSXCmqXh"
      }
    },
    {
      "cell_type": "markdown",
      "source": [
        "# **ESTADÍSTICA INFERENCIAL**"
      ],
      "metadata": {
        "id": "To66LBcU31f3"
      }
    },
    {
      "cell_type": "markdown",
      "source": [
        "En la estadística inferencial se estudian técnicas y procedimientos con el objetivo de extender o generalizar la información de una muestra a la población."
      ],
      "metadata": {
        "id": "pW-Pe1nx37OB"
      }
    },
    {
      "cell_type": "markdown",
      "source": [
        "**Definición:** Una muestra aleatoria (m.a) es una colección de v.a's $x_1,..., x_n$ que son:\n",
        "\n",
        "\n",
        "*   Independientes y\n",
        "*   Tienen la misma distribución que x.\n",
        "\n",
        "**Definición:** una estadística es una función de una muestra aleatoria $x_1,..., x_n$ que no depende de parámetros desconocidos. A tales funciones se les denota por $T=T(x_1,...,x_n).$\\\n",
        "**Definición:** Un estimador puntual para un parámetro desconocido $\\theta$ es una estadística $\\hat{\\theta} = \\hat{\\theta}(x_1,...,x_n)$ que se propone para estimar $\\theta$\n",
        "\n",
        "**Propiedades de los estimadores:**\n",
        "\n",
        "\n",
        "*   Insesgados: Un estimador es insesgado si, en promedio, coincide con el parámetro que está estimando. En otras palabras, un estimador $\\hat{\\theta}$ es insesgado si su valor es igual al valor del parámetro verdadero $\\theta$:\n",
        "$$ \\mathbb{E}(\\hat{\\theta})=\\theta $$\n",
        "$\\color{blue}{\\text{Ejemplo:}}$ Supongamos que estamos estimando la media poblacional $\\mu$ a partir de una muestra de tamaño n. La media muestral $\\bar{X}$ es un estimador insesgado de $\\mu$ porque $\\mathbb{E}(\\bar{X})= \\mu$\n",
        "*   Consistentes: Un estimador es consistente si, a medida que el tamaño de la muestra aumenta, el estimador converge en probabilidad al valor del parámetro verdadero. Formalmente, un estimador $\\hat{\\theta}$ es consistente si:\n",
        "$$ \\displaystyle \\lim_{n \\to \\infty}\\mathbb{P}(|\\hat{\\theta}-\\theta|< \\epsilon )=1 $$\n",
        "para cualquier $\\epsilon > 0$. La consistencia asegura que, con una muestra suficientemente grande, el estimador proporcionará un valor muy cercano al parámetro verdadero.\\\n",
        "$\\color{blue}{\\text{Ejemplo:}}$ La varianza muestral es un estimador consistente de la varianza poblacional $\\sigma ^{2}$. A medida que el tamaño de la muestra aumenta, la varianza muestral se aproxima a la varianza poblacional.\n",
        "*   Eficiencia: Un estimador es eficiente si tiene la menor varianza entre todos los estimadores insesgados. La eficiencia se refiere a la presición del estimador: un estimador eficienteproporciona estimaciones con menor disperción en torno al valor verdadero del parámetro. \\\n",
        "La varianza de un estimador insesgado $\\hat{\\theta}$ se utiliza para medir su eficiencia. Si $\\hat{\\theta_1}$ y $\\hat{\\theta_2}$ son dos estimadores insesgados del mismo parámetro $\\theta$, $\\hat{\\theta_1}$ es más eficiente que $\\hat{\\theta_2}$ si:\n",
        "$$ Var(\\hat{\\theta_1}) < Var(\\hat{\\theta_2}) $$\n",
        "$\\color{blue}{\\text{Ejemplo:}}$ Para una muestra de tamaño n de una población normal con media $\\mu$ y varianza $\\sigma ^{2}$, la media muestral $\\bar{X}$ es el estimador insesgado más eficiente de $\\mu$ porque tiene la menor varianza entre todos los estimadores insesgados de la media.\n",
        "\n",
        "*   Suficientes: Un estimador es suficiente si contiene toda la información necesaria de la muestra sobre el parámetro que se está estimando. Formalmente, un estimador $\\hat{\\theta}$ es suficiente para el parámetro $\\theta$ si la distribución conjunta de la muestra, condicionada a $\\hat{\\theta}$, no depende de $\\theta.$\\\n",
        "$\\color{blue}{\\text{Ejemplo:}}$ En una distribución normal con media $\\mu$ y varianza $\\sigma ^{2}$, la media muestral $\\bar{X}$ es un estadístico suficiente para la media $\\mu.$\n",
        "\n",
        "\n"
      ],
      "metadata": {
        "id": "xyTASik9449i"
      }
    },
    {
      "cell_type": "markdown",
      "source": [],
      "metadata": {
        "id": "YK--aIO4OzLD"
      }
    },
    {
      "cell_type": "markdown",
      "source": [
        "**Tipos de estimaciones:**\n",
        "\n",
        "\n",
        "*   Estimación puntual: Consiste en tomar el valor muestral del parámetro como una aproximación del valor de la población.\n",
        "*   Estimación por intervalos: Consiste en aproximar el valor del parámetro de la población a un intervalo, en lugar de un valor concreto. Por lo tanto, en este tipo de estimación se calcula un intervalo en el cual la probabilidad de que el valor real del parámetro se encuente dentro del intervalo es muy alta.\n",
        "\n"
      ],
      "metadata": {
        "id": "suaW60y-Fne3"
      }
    },
    {
      "cell_type": "markdown",
      "source": [
        "**Definición:** La función de verosimilitud del vector $(x_1,...,x_n)$ es:\n",
        "$$  L(\\theta)= fx_1,...,x_n(x_1,...,x_n;\\theta) $$\n",
        "Si $x_1,...,x_n$ son independientes,\n",
        "$$ L(\\theta)= fx_1(x_1;\\theta)\\cdots fx_n(x_n;\\theta) $$\n",
        "y cuando son idénticamente distribuidas,\n",
        "$$ L(\\theta)= f(x_1;\\theta)\\cdots f(x_n;\\theta) $$.\n",
        "Este es el caso de una muestra aleatoria."
      ],
      "metadata": {
        "id": "huJ_rkzFBxyG"
      }
    },
    {
      "cell_type": "markdown",
      "source": [
        "**Método de máxima verosimilitud:** Consiste en obtener el valor de $\\theta$ que maximiza a la función de verosimilitud $L(\\theta)= f(x_1;\\theta)\\cdots f(x_n;\\theta)$. Al valor $\\theta$ en donde $L(\\theta)$ alcanza su máximo se le llama \"estimación de máxima verosimilitud\"\n",
        "$$ \\frac{d}{d\\theta} \\left( Ln(L(\\theta;x_1,\\dots,x_n)) \\right) = 0 $$\n",
        "$\\color{blue}{\\text{Ejemplo:}}$ Una moneda se lanza 100 veces. Dado que se obtienen 55 soles; nos gustaria saber cual es la probabilidad de que salga sol en un lanzamiento *(la probabilidad de exito)*.\n",
        "\n",
        "Pero el unico detalle que no sabemos es el hecho del parametro; es decir, no conocemos cual es la probabilidad de exito de $p$ para la distribucion la cual la definimos como:\n",
        "\n",
        "$$ \\text{X: el numero de soles que se obtienen al lanzar una moneda} $$\n",
        "\n",
        "La cual es claro que se distribuye como: $X \\sim Bin(100,p)$\n",
        "\n",
        "Podemos pensar en contar el número de soles en los 100 lanzamientos, entonces la probabilidad de obtener 55 soles en este experimento, es la siguiente:\n",
        "\n",
        "$$ \\mathbb{P}(55 ~ soles; p) = \\binom{100}{55}p^{55}(1-p)^{100-55} $$"
      ],
      "metadata": {
        "id": "23hn88ZyD6vA"
      }
    },
    {
      "cell_type": "markdown",
      "source": [
        "Aun asi esto no nos da mas informacion de como obtener a $p$, pero usando el **MLE** podemos resolver la situacion de esta forma...\n",
        "\n",
        "$$ \\frac{d}{dp}(\\mathbb{P}(55 ~ soles ;p)) = \\frac{d}{dp} \\left( \\binom{100}{55}p^{55}(1-p)^{45} \\right) = \\binom{100}{55} \\left( 55p^{54} \\cdot (1 - p)^{45} - p^{55} \\cdot 45(1 - p)^{44} \\right) $$\n",
        "\n",
        "Igualamos a cero y tenemos que...\n",
        "\n",
        "$$ \\binom{100}{55} \\left( 55p^{54} \\cdot (1 - p)^{45} - p^{55} \\cdot 45(1 - p)^{44} \\right) = 0 $$\n",
        "\n",
        "$$ ~ \\Rightarrow ~ 55p^{54} \\cdot (1 - p)^{45} - p^{55} \\cdot 45(1 - p)^{44} = 0 $$\n",
        "\n",
        "$$ ~ \\Rightarrow ~ 55p^{54} \\cdot (1 - p)^{45} = p^{55} \\cdot 45(1 - p)^{44} $$\n",
        "\n",
        "Entonces, resolviendo para $p$, se tiene...\n",
        "\n",
        "$$ 55(1-p) = 45p ~ ~ \\Rightarrow ~ ~ 55 - 55p = 45p ~ ~ \\Rightarrow ~ ~ 55 = 100p $$\n",
        "\n",
        "Por lo tanto tenemos que:\n",
        "\n",
        "$$ \\hat{p} = \\frac{55}{100}$$"
      ],
      "metadata": {
        "id": "22zgvg25RQPy"
      }
    },
    {
      "cell_type": "markdown",
      "source": [
        "De hecho podemos podemos evitarnos mucho trabajo de resolver esta ecuaciones si ocupamos las funciones que nos ofrece la paqueteria \"*Scipy*\", ya que tiene modelado lo que es \"el despeje de cualquier varible que se pida de una ecuación\"..."
      ],
      "metadata": {
        "id": "I8rb1z1vRVbf"
      }
    },
    {
      "cell_type": "code",
      "source": [
        "from scipy.stats import bernoulli, binom      # Traemos a las distrbuciones bernoulli y binomial\n",
        "import numpy as np\n",
        "import sympy                    # Para calculo simbolico y algebraico -> encontra el estimador de maneta analítica\n",
        "from sympy.abc import x\n",
        "\n",
        "# Definir a p como una variable simbolica positiva\n",
        "p = sympy.symbols('p', positive = True )\n",
        "\n",
        "# Recreamos la probabilidad que habimos establecido (sin la necesidad de la combinatoria ya que seria un constante que podemos quitarla)\n",
        "f = p**55 * (1-p)**(100-55)\n",
        "\n",
        "# Pidimos que resuelva la ecuacion que nos pide por medio la funcion: \"solve\" y indicando a que esta igualada\n",
        "phat = sympy.solve(sympy.diff(f,p),p)[0]\n",
        "\n",
        "print(\"Es estimador de máxima verosimilitud es\", phat)      # Mandamos a imprimir el resultado"
      ],
      "metadata": {
        "colab": {
          "base_uri": "https://localhost:8080/"
        },
        "id": "tJ_LnqWaDu_o",
        "outputId": "9978d649-f208-4264-effc-a91167737e03"
      },
      "execution_count": 1,
      "outputs": [
        {
          "output_type": "stream",
          "name": "stdout",
          "text": [
            "Es estimador de máxima verosimilitud es 11/20\n"
          ]
        }
      ]
    },
    {
      "cell_type": "markdown",
      "source": [
        "Veamos otro ejemplo de como funciona el \"solve\", \"log\", \"expand_log\":"
      ],
      "metadata": {
        "id": "JpGAhrLNRnRq"
      }
    },
    {
      "cell_type": "code",
      "source": [
        "r = binom.rvs(1,0.7, size=100)\n",
        "r"
      ],
      "metadata": {
        "colab": {
          "base_uri": "https://localhost:8080/"
        },
        "id": "m30nNBh5Rp2g",
        "outputId": "30699835-1454-4a37-e09e-b47701ebf7f3"
      },
      "execution_count": 2,
      "outputs": [
        {
          "output_type": "execute_result",
          "data": {
            "text/plain": [
              "array([0, 0, 1, 1, 0, 1, 1, 1, 0, 0, 1, 1, 1, 1, 0, 1, 1, 0, 1, 0, 0, 0,\n",
              "       1, 1, 1, 1, 1, 0, 1, 1, 0, 1, 1, 1, 1, 1, 0, 0, 1, 1, 0, 1, 0, 1,\n",
              "       0, 0, 0, 0, 1, 1, 1, 1, 1, 1, 1, 0, 1, 1, 0, 1, 1, 1, 1, 0, 0, 1,\n",
              "       1, 0, 0, 0, 1, 1, 1, 0, 0, 1, 0, 1, 1, 1, 0, 0, 0, 1, 0, 1, 1, 1,\n",
              "       0, 0, 1, 1, 0, 1, 1, 0, 1, 1, 1, 1])"
            ]
          },
          "metadata": {},
          "execution_count": 2
        }
      ]
    },
    {
      "cell_type": "code",
      "execution_count": 3,
      "metadata": {
        "id": "vhedqGBk3sCU",
        "colab": {
          "base_uri": "https://localhost:8080/"
        },
        "outputId": "d828dc81-976d-43e2-c50e-a010b35da781"
      },
      "outputs": [
        {
          "output_type": "stream",
          "name": "stdout",
          "text": [
            "Es estimador de máxima verosimilitud es 31/50\n"
          ]
        }
      ],
      "source": [
        "f = p**x*(1-p)**(1-x)\n",
        "J = np.prod([f.subs(x,i) for i in r])\n",
        "logJ = sympy.expand_log(sympy.log(J)) #logaritmo\n",
        "phat = sympy.solve(sympy.diff(logJ,p),p)[0]\n",
        "print(\"Es estimador de máxima verosimilitud es\", phat)"
      ]
    },
    {
      "cell_type": "markdown",
      "source": [
        "$\\color{blue}{\\text{Ejemplo:}}$ Sea una muestra aleatoria $X_1, \\ldots, X_n \\overset{iid}{\\sim} \\mathcal{N}(\\mu, \\sigma^2) $.\n",
        "Queremos encontrar el estimador de máxima verosimilitud para $\\mu$ y $\\sigma^2$.\n",
        "\n",
        "La función de densidad es:\n",
        "$$ f(x; \\mu, \\sigma^2) = \\frac{1}{\\sqrt{2\\pi \\sigma^2}} \\exp\\left(-\\frac{(x - \\mu)^2}{2\\sigma^2}\\right) \\cdot \\mathbf{1}_{(-\\infty, \\infty)}(x) $$"
      ],
      "metadata": {
        "id": "JJiAzx2YVuAn"
      }
    },
    {
      "cell_type": "markdown",
      "source": [
        "**Solucion:**\n",
        "\n",
        "Creamos la funcion verosimil de nuestra m.a. que tenemos...\n",
        "\n",
        "$$ L(\\theta; x_1,\\dots,x_n) = \\prod_{i=1}^n f(x_i,\\theta) = \\prod_{i=1}^n \\left( \\frac{1}{\\sqrt{2\\pi \\sigma^2}} \\exp \\left(-\\frac{(x_i - \\mu)^2}{2\\sigma^2}\\right) \\right) $$\n",
        "\n",
        "$$ \\prod_{i=1}^n \\left( \\frac{1}{\\sqrt{2\\pi \\sigma^2}} \\right) \\cdot \\prod_{i=1}^n \\exp \\left(-\\frac{(x_i - \\mu)^2}{2\\sigma^2}\\right) = \\left( \\frac{1}{\\sqrt{2\\pi \\sigma^2}} \\right)^n \\cdot \\exp \\left( - \\sum_{i=1}^n \\frac{(x_i - \\mu)^2}{2\\sigma^2} \\right) $$\n",
        "\n",
        "El detalle de aqui es el hecho de que la derivada que usamos provocara que se complique mucho el algebra; por ello vamos un hecho importante...\n",
        "\n",
        "Dado a que la distribucion Normal pertenece a **la familia de la exponenciales**, por prosicion tenemos la **EMV** lo podemos resolver de la siguiente forma:\n",
        "\n",
        "$$ \\frac{d}{d\\theta} \\left( \\ln \\left( L(\\theta;x_1,\\dots,x_n) \\right) \\right) = 0 $$\n",
        "\n",
        "Por otra parte, dado a que tenemos 2 parametros de la distribucion Normal, el metodo de maxima verosimilitud se requiere de resolver 2 ecuaciones *(uno por cada parametro)*. con ello vamos desarrollarlo cada ecuación..."
      ],
      "metadata": {
        "id": "dDtOt3XqWA35"
      }
    },
    {
      "cell_type": "markdown",
      "source": [
        "* La primer derivada con respecto a $\\mu$\n",
        "\n",
        "$$ \\frac{d}{d\\mu} \\left( \\ln \\left( L(\\mu;x_1,\\dots,x_n) \\right) \\right) = 0 ~ \\Rightarrow ~ \\frac{d}{d \\mu} \\left( \\ln \\left( \\left( \\frac{1}{\\sqrt{2\\pi \\sigma^2}} \\right)^n \\cdot \\exp \\left( - \\sum_{i=1}^n \\frac{(x_i - \\mu)^2}{2\\sigma^2} \\right) \\right) \\right) = 0 $$\n",
        "\n",
        "$$ ~  \\Rightarrow ~ \\frac{d}{d \\mu} \\left( \\ln \\left( \\left( \\frac{1}{\\sqrt{2\\pi \\sigma^2}} \\right)^n \\right) + \\ln \\left( \\exp \\left( - \\sum_{i=1}^n \\frac{(x_i - \\mu)^2}{2\\sigma^2} \\right) \\right) \\right) = 0 $$\n",
        "\n",
        "$$ ~  \\Rightarrow ~ - \\sum_{i=1}^n \\frac{d}{d \\mu} \\left( \\frac{(x_i - \\mu)^2}{2\\sigma^2} \\right) = 0  ~ \\Rightarrow ~ \\frac{1}{2\\sigma^2} \\cdot \\sum_{i=1}^n 2(x_i - \\mu) = 0 ~ \\Rightarrow ~ \\frac{1}{\\sigma^2} \\cdot \\sum_{i=1}^n (x_i - \\mu) = 0 $$\n",
        "\n",
        "$$ ~ \\Rightarrow ~ \\sum_{i=1}^n (x_i - \\mu) = 0 ~ \\Rightarrow ~ \\sum_{i=1}^n x_i - n \\mu = 0 ~ \\Rightarrow ~ \\sum_{i=1}^n x_i = n \\mu  $$\n",
        "\n",
        "Por lo tanto tenemos que el estimador de $\\mu$ sera la siguiente:\n",
        "\n",
        "$$ \\hat{\\mu} = \\frac{\\sum_{i=1}^n}{n} = \\bar{X} $$\n"
      ],
      "metadata": {
        "id": "tHZuJhF1WGTh"
      }
    },
    {
      "cell_type": "markdown",
      "source": [
        "* La segunda derivada con respecto a $\\sigma^2$\n",
        "\n",
        "$$ \\frac{d}{d \\sigma^2} \\left( \\ln \\left( L(\\sigma^2;x_1,\\dots,x_n) \\right) \\right) = 0 ~ \\Rightarrow ~ \\frac{d}{d \\sigma^2} \\left( \\ln \\left( \\left( \\frac{1}{\\sqrt{2\\pi \\sigma^2}} \\right)^n \\cdot \\exp \\left( - \\sum_{i=1}^n \\frac{(x_i - \\mu)^2}{2\\sigma^2} \\right) \\right) \\right) = 0 $$\n",
        "\n",
        "$$ ~ \\Rightarrow ~ \\frac{d}{d \\sigma^2} \\left( \\ln \\left( \\left( \\frac{1}{\\sqrt{2\\pi \\sigma^2}} \\right)^n \\right) + \\ln \\left( \\exp \\left( - \\sum_{i=1}^n \\frac{(x_i - \\mu)^2}{2\\sigma^2} \\right) \\right) \\right) = 0 $$\n",
        "\n",
        "$$ ~ \\Rightarrow ~ \\frac{d}{d \\sigma^2} \\left( n \\cdot \\ln \\left( \\frac{1}{\\sqrt{2\\pi \\sigma^2}} \\right) - \\frac{1}{2\\sigma^2} \\sum_{i=1}^n (x_i - \\mu)^2 \\right) = 0 $$\n",
        "\n",
        "$$ ~ \\Rightarrow ~ \\frac{d}{d \\sigma^2} \\left( n \\cdot \\ln \\left( \\frac{1}{\\sqrt{2\\pi \\sigma^2}} \\right) \\right) - \\frac{d}{d \\sigma^2} \\left( \\frac{1}{\\sigma^2} \\sum_{i=1}^n \\frac{(x_i - \\mu)^2}{2} \\right) = 0 $$\n",
        "\n",
        "Veamos cada uno de los terminos que vamos a derivar...\n",
        "\n",
        "$$ \\frac{d}{d \\sigma^2} \\left( n \\cdot \\ln \\left( \\frac{1}{\\sqrt{2\\pi \\sigma^2}} \\right) \\right) = \\frac{d}{d \\sigma^2} \\left( n \\cdot \\ln (1) - n \\cdot \\ln \\left( \\sqrt{2\\pi \\sigma^2} \\right)  \\right) = \\frac{d}{d \\sigma^2} \\left( - n \\cdot \\ln \\left( \\sqrt{2\\pi \\sigma^2} \\right) \\right) $$\n",
        "\n",
        "$$ = - \\frac{d}{d \\sigma^2} \\left( \\frac{n}{2} \\cdot \\ln \\left( 2 \\pi \\sigma^2 \\right) \\right) = - \\frac{d}{d \\sigma^2} \\left( \\frac{n}{2} \\cdot \\ln (2 \\pi) + \\frac{n}{2} \\cdot \\ln (\\sigma^2) \\right) $$\n",
        "\n",
        "En resumen tenemos que la forma mas simple de este termino es:\n",
        "\n",
        "$$ - \\frac{n}{2} \\cdot \\frac{1}{\\sigma^2} $$\n",
        "\n",
        "Para el segundo termino...\n",
        "\n",
        "$$ - \\sum_{i=1}^n (x_i - \\mu)^2 \\cdot \\frac{d}{d \\sigma^2} \\left( \\frac{1}{2 \\sigma^2} \\right) = \\frac{1}{2 (\\sigma^2)^2} \\cdot \\sum_{i=1}^n (x_i - \\mu)^2 $$\n",
        "\n",
        "Simplificando el la ecuacion principal tenemos que:\n",
        "\n",
        "$$ - \\frac{n}{2} \\cdot \\frac{1}{\\sigma^2} + \\frac{1}{2 (\\sigma^2)^2} \\cdot \\sum_{i=1}^n (x_i - \\mu)^2 = 0 ~ \\Rightarrow ~ \\frac{n}{2} \\cdot \\frac{1}{\\sigma^2} = \\frac{1}{2 (\\sigma^2)^2} \\cdot \\sum_{i=1}^n (x_i - \\mu)^2 $$\n",
        "\n",
        "$$ ~ \\Rightarrow ~ n \\cdot \\frac{1}{2} \\cdot \\frac{1}{\\sigma^2} = \\frac{1}{2} \\cdot \\frac{1}{ \\sigma^2} \\cdot \\frac{1}{ \\sigma^2} \\cdot \\sum_{i=1}^n (x_i - \\mu)^2 ~ \\Rightarrow ~ n = \\frac{1}{ \\sigma^2} \\cdot \\sum_{i=1}^n (x_i - \\mu)^2 $$\n",
        "\n",
        "Remplazamos la $\\hat{\\mu}$ anterior y con ello podemos decir que el estimador para $\\sigma^2$ sera el siguiente:\n",
        "\n",
        "$$ \\sigma^2 = \\frac{1}{n} \\cdot \\sum_{i=1}^n (x_i - \\bar{X})^2 = \\sum_{i=1}^n \\frac{(x_i - \\bar{X})^2}{n} $$"
      ],
      "metadata": {
        "id": "2hoJTSfCWL7l"
      }
    },
    {
      "cell_type": "markdown",
      "source": [
        "En genral tenemos que los estimadores para la distribucion Normal sera los siguientes...\n",
        "\n",
        "$$ \\hat{\\mu} = \\frac{\\sum_{i=1}^n}{n} = \\bar{X} $$\n",
        "\n",
        "$$ Y $$\n",
        "\n",
        "$$ \\sigma^2 = \\frac{1}{n} \\cdot \\sum_{i=1}^n (x_i - \\bar{X})^2 = \\sum_{i=1}^n \\frac{(x_i - \\bar{X})^2}{n} $$"
      ],
      "metadata": {
        "id": "cg0C7FyfWWOj"
      }
    },
    {
      "cell_type": "markdown",
      "source": [
        "$\\color{blue}{\\text{Ejemplo:}}$ Suponga que la vida util de los focos de cierta marca, se modela mediante una distribución expoencial de parametro $\\theta$ (desconocido). Probamos 5 focos y encontramos que tienen una vida útil de $2,3,1,3$ y $5$ años, respectivamente. ¿Cuál es el MLE para $\\theta$?\\\n",
        "**Solución:**"
      ],
      "metadata": {
        "id": "muokCk1UWdkr"
      }
    },
    {
      "cell_type": "code",
      "source": [
        "import sympy\n",
        "import numpy as np\n",
        "\n",
        "# Datos de la muestra\n",
        "muestra = np.array([2, 3, 1, 3, 5])\n",
        "\n",
        "# Definir variables simbólicas\n",
        "theta = sympy.Symbol('theta')\n",
        "x = sympy.Symbol('x')\n",
        "\n",
        "# Función de densidad de probabilidad para la distribución exponencial\n",
        "f = theta * sympy.exp(-theta * x)\n",
        "\n",
        "# Función de verosimilitud\n",
        "J = sympy.prod([f.subs(x, i) for i in muestra])\n",
        "\n",
        "# Logaritmo de la función de verosimilitud\n",
        "logJ = sympy.expand_log(sympy.log(J))\n",
        "\n",
        "# Derivada del logaritmo de la verosimilitud con respecto a theta\n",
        "diff_logJ = sympy.diff(logJ, theta)\n",
        "\n",
        "# Resolver para theta\n",
        "theta_hat = sympy.solve(diff_logJ, theta)[0]\n",
        "\n",
        "print(f\"El Estimador de Máxima Verosimilitud para theta es: {theta_hat}\")"
      ],
      "metadata": {
        "colab": {
          "base_uri": "https://localhost:8080/"
        },
        "id": "2vl6XLpQWoJl",
        "outputId": "47c5661f-33ca-4080-89b4-00d7c56c1963"
      },
      "execution_count": 4,
      "outputs": [
        {
          "output_type": "stream",
          "name": "stdout",
          "text": [
            "El Estimador de Máxima Verosimilitud para theta es: 5/14\n"
          ]
        }
      ]
    },
    {
      "cell_type": "markdown",
      "source": [
        "**Método de momentos:** Consiste en igualar momentos poblacionales con los muestrales:\n",
        "\n",
        "\n",
        "*   n-ésimo momento de x:\n",
        "$$ \\mathbb{E}[x^{n}] $$\n",
        "*   Momentos poblacionales:\n",
        "$$ Mx(t)\\mapsto M^{(n)}(0)= \\mathbb{E}[x^{n}] $$\n",
        "* Momentos muestrales:\n",
        "$$ m_{n}= \\frac{1}{n}\\sum_{i=1}^{k}x^{n}_{i} $$\n",
        "\n"
      ],
      "metadata": {
        "id": "-HzPXv10Socv"
      }
    },
    {
      "cell_type": "markdown",
      "source": [
        "$\\color{blue}{\\text{Ejemplo:}}$El tiempo de retardo para pacientes con enfermedad coronaria potencial se define como la duración entre el comienzo de un síntoma agudo cardiovascular y la llegada a la unidad de emergencia.\n",
        "\n",
        "Se supone que el tiempo de retardo sigue una distribución exponencial con parámetro $\\theta $.\n",
        "\n",
        "Se registraron los tiempos de retardo (en minutos) en la clínica para los primeros 20 pacientes:\n",
        "\n",
        "$$ 525, \\ 719, \\ 2880, \\ 150, \\ 30, \\ 251, \\ 45, \\ 858, \\ 15, \\ 47, \\ 90, \\ 56, \\ 68, \\ 6, \\ 189, \\ 180, \\ 60, \\ 60, \\ 294, \\ 747 $$\n",
        "\n",
        "- Encuentra un estimador por el método de momentos para la media de la distribución.\n",
        "- Encuentra el valor del estimador con los datos dados."
      ],
      "metadata": {
        "id": "At6BAZsBUq9C"
      }
    },
    {
      "cell_type": "markdown",
      "source": [
        "**Estimación por el Método de Momentos en Distribución Exponencial**\n",
        "\n",
        "Sea $(X_1, X_2, \\dots, X_n)$ una muestra aleatoria con distribución exponencial de parámetro $\\theta$:\n",
        "\n",
        "$$ f(x; \\theta) = \\frac{1}{\\theta} e^{-x/\\theta}, \\quad x > 0, \\ \\theta > 0 $$\n",
        "\n",
        "**1. Encuentra un estimador por el método de momentos para la media de la distribución.**\n",
        "\n",
        "Sabemos que la esperanza de una variable aleatoria con distribución exponencial es:\n",
        "\n",
        "$$ E[X] = \\theta $$\n",
        "\n",
        "Por el método de momentos, igualamos la media teórica con la media muestral:\n",
        "\n",
        "$$ \\hat{\\theta}_{MM} = \\bar{X} = \\frac{1}{n} \\sum_{i=1}^{n} X_i $$\n",
        "\n",
        "**2. Encuentra el valor del estimador con los datos dados.**\n",
        "\n",
        "Los tiempos de retardo registrados en la clínica son:\n",
        "\n",
        "$$ 525, \\ 719, \\ 2880, \\ 150, \\ 30, \\ 251, \\ 45, \\ 858, \\ 15, \\ 47, \\ 90, \\ 56, \\ 68, \\ 6, \\ 189, \\ 180, \\ 60, \\ 60, \\ 294, \\ 747 $$\n",
        "\n",
        "Calculamos la media muestral:\n",
        "\n",
        "$$ \\bar{X} = \\frac{1}{20} \\sum_{i=1}^{20} X_i $$\n",
        "\n",
        "Calculando la suma:\n",
        "\n",
        "$$ \\sum_{i=1}^{20} X_i = 7270 $$\n",
        "\n",
        "Finalmente, obtenemos el estimador:\n",
        "\n",
        "$$ \\hat{\\theta}_{MM} = \\frac{7270}{20} = 363.5 $$\n",
        "\n",
        "**Conclusión:**  \n",
        "El estimador de $\\theta$ por el método de momentos es:\n",
        "\n",
        "$$ \\hat{\\theta}_{MM} = 363.5 \\text{ minutos} $$"
      ],
      "metadata": {
        "id": "l-eHNKTIVW-w"
      }
    },
    {
      "cell_type": "markdown",
      "source": [
        "# **Error cuadrático medio:**\n",
        "$$ ECM(\\hat{\\theta}) = \\mathbb{E}[(\\hat{\\theta}-\\theta)^2] = Var(\\hat{\\theta}) + (\\mathbb{E}[\\hat{\\theta}]-\\theta)^2 $$"
      ],
      "metadata": {
        "id": "BFodMOXFfkFg"
      }
    },
    {
      "cell_type": "markdown",
      "source": [
        "**Definición:** El sesgo B de un estimadot $\\hat{\\theta}$ es:\n",
        "$$ B= \\mathbb{E}(\\hat{\\theta})-\\theta $$\n",
        "1. Si $\\mathbb{E}[\\hat{\\theta}]>\\theta$ el estimador es sesgado positivamente.\n",
        "2. Si $\\mathbb{E}[\\hat{\\theta}]<\\theta$  el estimador es sesgado negativamente."
      ],
      "metadata": {
        "id": "qHDNexJZgfZ8"
      }
    },
    {
      "cell_type": "markdown",
      "source": [],
      "metadata": {
        "id": "KCokcjP8gZSL"
      }
    },
    {
      "cell_type": "markdown",
      "source": [
        "# **Intervalos de confianza**"
      ],
      "metadata": {
        "id": "8YF5fTYDfKie"
      }
    },
    {
      "cell_type": "markdown",
      "source": [
        "**Definición:** Sea $x_1,...,x_n$ una m.a. con $f(x;\\theta)$. Sean $T_1=t_1(x_1,...,x_n)$ y $T_2=t_2(x_1,...,x_n)$ dos estadísticos tales que $T_1 \\leq T_2$:\n",
        "$$ \\mathbb{P}(T_1\\leq \\tau (\\theta)\\leq T_2)=\\gamma  $$\n",
        "Al intervalo aletorio $(T_1, T_2)$ se le llama intervalo del $\\gamma_x 100\\%$ de confianza."
      ],
      "metadata": {
        "id": "h-QJnatyhjJ1"
      }
    },
    {
      "cell_type": "markdown",
      "source": [
        "\n",
        "\n",
        "1.   I.C. para la media $\\mu$ de una normal con $\\sigma$ conocida: se usa distribución normal.\n",
        "2. I.C. para la media $\\mu$ de una normal con $\\sigma$ desconocida: se usa distribución t-student.\n",
        "3. I.C. para $\\sigma^2$  de una normal con $\\mu$ conocida: se usa distribución $\\chi^2$.\n",
        "4. I.C. para $\\sigma^2$ de una normal con $\\mu$ desconocida: se usa distribución F.\n",
        "\n",
        "\n"
      ],
      "metadata": {
        "id": "7RyfRofkistF"
      }
    },
    {
      "cell_type": "code",
      "source": [
        "import numpy as np\n",
        "import matplotlib.pyplot as plt\n",
        "import scipy.stats as st"
      ],
      "metadata": {
        "id": "4GxWQn-ZkFQg"
      },
      "execution_count": 5,
      "outputs": []
    },
    {
      "cell_type": "markdown",
      "source": [
        "# **1.** **Intervalo de confianza para la media de una distribución normal con $\\sigma$ conocida**:\n",
        "Sea $X_1, \\dots, X_n$ una m.a. $X_i \\sim \\mathcal{N}(\\mu, \\sigma^2)$. Entonces:\n",
        "\n",
        "- $\\bar{X} \\sim \\mathcal{N}(\\mu, \\frac{\\sigma^2}{n})$\n",
        "- $Z = \\frac{\\bar{X} - \\mu}{\\sigma / \\sqrt{n}} \\sim \\mathcal{N}(0,1)$\n",
        "\n",
        "### Nivel de significancia (error): $\\alpha$\n",
        "\n",
        "El intervalo de confianza se basa en que:\n",
        "$$\n",
        "\\mathbb{P}\\left( -z_{\\alpha/2} < \\frac{\\bar{X} - \\mu}{\\sigma / \\sqrt{n}} < z_{\\alpha/2} \\right)\n",
        "= \\mathbb{P}\\left( \\bar{X} - z_{\\alpha/2} \\frac{\\sigma}{\\sqrt{n}} < \\mu < \\bar{X} + z_{\\alpha/2} \\frac{\\sigma}{\\sqrt{n}} \\right)\n",
        "= 1 - \\alpha\n",
        "$$\n",
        "\n",
        "### El intervalo del $(1 - \\alpha) \\cdot 100\\%$ de confianza para $\\mu$ (con $\\sigma$ conocida) es:\n",
        "\n",
        "$$\n",
        "\\left( \\bar{X} - z_{\\alpha/2} \\frac{\\sigma}{\\sqrt{n}}, \\quad \\bar{X} + z_{\\alpha/2} \\frac{\\sigma}{\\sqrt{n}} \\right)\n",
        "$$\n",
        "donde\n",
        "\n",
        "- $\\sigma$ = desviación estándar  \n",
        "- $\\frac{\\sigma}{\\sqrt{n}}$ = error estándar de la media  \n",
        "- $z_{\\alpha/2}$ determina el nivel de confianza  \n",
        "- El intervalo está centrado en $\\bar{X}$\n",
        "\n",
        "**Observación**\n",
        "\n",
        "- A mayor $n$, menor es el error estándar, y el intervalo de confianza es más pequeño.\n",
        "- Esto hace que se acerque más a la media $\\mu$, es decir, que haya menor variación."
      ],
      "metadata": {
        "id": "ydY-RYqTjukC"
      }
    },
    {
      "cell_type": "markdown",
      "source": [
        "$\\color{blue}{\\text{Ejemplo 1:}}$ Para tratar de estimar la media de consumo por cliente en un gran restaurante, se reunieron datos de una muestra de 49 clientes durante 3 semanas.\n",
        "\n",
        "**a)** Supongamos que la **desviación estándar de la población** es de $\\$2.50$. ¿Cuál es el error estándar de la media?\n",
        "\n",
        "**b)** Con un nivel de confianza del $95\\%$, ¿cuál es el margen de error?\n",
        "\n",
        "**c)** Si la **media de la muestra** es de $\\$22.60$, cuál es el intervalo de confianza del $95\\%$ para la media de la población?"
      ],
      "metadata": {
        "id": "PZPILlM9kgrY"
      }
    },
    {
      "cell_type": "code",
      "source": [
        "# Datos\n",
        "n=49\n",
        "sigma = 2.50\n",
        "media_muestral = 22.60\n",
        "confianza = 0.95\n",
        "\n",
        "# a) Error estándar de la media\n",
        "error_estandar = sigma / np.sqrt(n)\n",
        "#error_estandar\n",
        "print(f\" a) Error estándar de la media: {error_estandar:.2f}\")\n",
        "\n",
        "# b) Margen de error\n",
        "z = st.norm.ppf(1-(1-confianza) / 2)\n",
        "margen_error = z * error_estandar\n",
        "#margen_error\n",
        "print(f\" b) Margen de error con 95% de confianza: {margen_error:.2f}\")\n",
        "\n",
        "# c)\n",
        "limite_inferior = media_muestral - margen_error\n",
        "limite_superior = media_muestral + margen_error\n",
        "print(f\" c) Intervalo de confianza del 95%: ({limite_inferior:.2f},{limite_superior:.2f})\")"
      ],
      "metadata": {
        "colab": {
          "base_uri": "https://localhost:8080/"
        },
        "id": "KD4dCvyMktEV",
        "outputId": "fb20282e-1aab-4b63-dc4e-1d6ee8681c08"
      },
      "execution_count": 6,
      "outputs": [
        {
          "output_type": "stream",
          "name": "stdout",
          "text": [
            " a) Error estándar de la media: 0.36\n",
            " b) Margen de error con 95% de confianza: 0.70\n",
            " c) Intervalo de confianza del 95%: (21.90,23.30)\n"
          ]
        }
      ]
    },
    {
      "cell_type": "markdown",
      "source": [
        "$1-\\alpha=.95$, implica que $z_{\\alpha/2} = z_{0.025} = 1.96$"
      ],
      "metadata": {
        "id": "pipIVjKZfUa6"
      }
    },
    {
      "cell_type": "markdown",
      "source": [
        "$\\color{blue}{\\text{Ejemplo 2:}}$ Supongamos que se toma una muestra aleatoria de 100 personas para estimar la media del peso de una población, y se obtiene que la media muestral es de $70$ kg con una desviación estándar que es conocida de $10$ kg. Para un nivel de confianza del $95\\%$, calcular el intervalo de confianza"
      ],
      "metadata": {
        "id": "kwrLJuTSk1ep"
      }
    },
    {
      "cell_type": "code",
      "source": [
        "# Datos\n",
        "n = 100\n",
        "media_muestral = 70\n",
        "sigma = 10\n",
        "nivel_confianza = 0.95\n",
        "error_estandar = sigma / np.sqrt(n)\n",
        "\n",
        "#Utilizaremos la función scipy.stats.norm.interval\n",
        "# Sintaxis\n",
        "# scipy.stats.norm.interval(confidence, loc = media, scale = error_estandar )\n",
        "\n",
        "intervalo = st.norm.interval(confidence = nivel_confianza, loc = media_muestral, scale = error_estandar)\n",
        "print(f\"Intervalo de confianza del 95% es: {intervalo}\")\n"
      ],
      "metadata": {
        "colab": {
          "base_uri": "https://localhost:8080/"
        },
        "id": "t5vXDUtDk_XE",
        "outputId": "29b69b25-919c-4958-98fb-729ed26fa488"
      },
      "execution_count": 7,
      "outputs": [
        {
          "output_type": "stream",
          "name": "stdout",
          "text": [
            "Intervalo de confianza del 95% es: (np.float64(68.04003601545995), np.float64(71.95996398454005))\n"
          ]
        }
      ]
    },
    {
      "cell_type": "code",
      "source": [
        "# Puntos para graficar la curva normal\n",
        "x = np.linspace(media_muestral - 4*error_estandar, media_muestral + 4*error_estandar, 500)\n",
        "y = st.norm.pdf(x, loc=media_muestral, scale=error_estandar)\n",
        "\n",
        "# Gráfica\n",
        "plt.figure(figsize=(10, 5))\n",
        "plt.plot(x, y, label='Distribución normal', color='black')\n",
        "\n",
        "# Sombrear el intervalo de confianza\n",
        "plt.fill_between(x, y, where=(x >= intervalo[0]) & (x <= intervalo[1]), color='skyblue', alpha=0.6, label='IC 95%')\n",
        "\n",
        "# Líneas verticales\n",
        "plt.axvline(intervalo[0], color='blue', linestyle='--', label=f'IC inferior = {intervalo[0]:.2f}')\n",
        "plt.axvline(intervalo[1], color='blue', linestyle='--', label=f'IC superior = {intervalo[1]:.2f}')\n",
        "plt.axvline(media_muestral, color='red', linestyle='-', label=f'Media muestral = {media_muestral}')\n",
        "\n",
        "plt.title('Intervalo de confianza del 95% para la media ($\\\\sigma$ conocida)', fontsize=14)\n",
        "plt.xlabel('Valor de la variable')\n",
        "plt.ylabel('Densidad')\n",
        "plt.legend()\n",
        "plt.grid(True)\n",
        "plt.show()"
      ],
      "metadata": {
        "colab": {
          "base_uri": "https://localhost:8080/",
          "height": 490
        },
        "id": "JT3hnubClEYr",
        "outputId": "9b71f960-8a30-4f8e-c9d0-9b920ab985a8"
      },
      "execution_count": 8,
      "outputs": [
        {
          "output_type": "display_data",
          "data": {
            "text/plain": [
              "<Figure size 1000x500 with 1 Axes>"
            ],
            "image/png": "[encoded data removed]"
          },
          "metadata": {}
        }
      ]
    },
    {
      "cell_type": "markdown",
      "source": [],
      "metadata": {
        "id": "GydjymWHVgd-"
      }
    },
    {
      "cell_type": "markdown",
      "source": [
        "# **2. Intervalo de confianza para la  media $\\mu$ de una distrinución normal con $\\sigma$ desconocida:**"
      ],
      "metadata": {
        "id": "DY9XLw09lHAw"
      }
    },
    {
      "cell_type": "markdown",
      "source": [
        "Sea $X_1, \\dots, X_n$ una m.a. $X_i \\sim \\mathcal{N}(\\mu, \\sigma^2)$. Entonces:\n",
        "\n",
        "- $\\bar{X} \\sim \\mathcal{N}(\\mu, \\frac{\\sigma^2}{n})$\n",
        "- $Z = \\frac{\\bar{X} - \\mu}{\\sigma / \\sqrt{n}} \\sim \\mathcal{N}(0,1)$\n",
        "\n",
        "Si el tamaño de la muestra es menor a 30, se utiliza la $t$:\n",
        "### Estadístico t\n",
        "\n",
        "Definimos el estadístico $t$ de la siguiente manera:\n",
        "$$T = \\frac{\\bar{X}-\\mu}{s/\\sqrt{n}} \\sim t_{(n-1)} $$\n",
        "\n",
        "### El intervalo del $(1 - \\alpha) \\cdot 100\\%$ de confianza para $\\mu$ (con $\\sigma$ desconocida) es:\n",
        "\n",
        "$$\n",
        "\\left( \\bar{X} - t_{\\alpha/2} \\frac{s}{\\sqrt{n}}, \\quad \\bar{X} + t_{\\alpha/2} \\frac{s}{\\sqrt{n}} \\right)\n",
        "$$\n",
        "donde\n",
        "\n",
        "- $s$ = desviación estándar muestral\n",
        "- $\\frac{s}{\\sqrt{n}}$ = error estándar de la media  \n",
        "- $t_{\\alpha/2}$ determina el nivel de confianza  \n",
        "- El intervalo está centrado en $\\bar{X}$"
      ],
      "metadata": {
        "id": "wgZtXkUJlSKz"
      }
    },
    {
      "cell_type": "markdown",
      "source": [
        "$\\color{blue}{\\text{Ejemplo 3:}}$  Supongamos que tenemos los siguientes datos\n",
        "$$ datos = [45, 55, 67, 45, 68, 79, 98, 87, 84, 82] $$\n",
        "Calcular un intervalo de confianza para la media."
      ],
      "metadata": {
        "id": "_PVsh_HglW17"
      }
    },
    {
      "cell_type": "code",
      "source": [
        "# Datos del ejemplo\n",
        "data = [45, 55, 67, 45, 68, 79, 98, 87, 84, 82]\n",
        "confidence = 0.95\n",
        "gl = len(data) - 1 # grados de liber\n",
        "\n",
        "# Media y error estandar\n",
        "mean = np.mean(data)\n",
        "error_est = st.sem(data)\n",
        "\n",
        "# Intervalo de confianza usando t de Student\n",
        "intervalo = st.t.interval(confidence, gl, loc = mean, scale = error_est)\n",
        "\n",
        "print(f\"Media muestral: {mean:.2f}\")\n",
        "print(f\"Error estandar: {error_est:.2f}\")\n",
        "print(f\"El intervalo de confianza del 95% es: {intervalo}\")"
      ],
      "metadata": {
        "colab": {
          "base_uri": "https://localhost:8080/"
        },
        "id": "R_xYgdGdlgZb",
        "outputId": "c0e00a76-cdfe-4de7-cd28-9e93febcef26"
      },
      "execution_count": 9,
      "outputs": [
        {
          "output_type": "stream",
          "name": "stdout",
          "text": [
            "Media muestral: 71.00\n",
            "Error estandar: 5.75\n",
            "El intervalo de confianza del 95% es: (np.float64(58.000521742293884), np.float64(83.99947825770612))\n"
          ]
        }
      ]
    },
    {
      "cell_type": "markdown",
      "source": [
        "$\\color{blue}{\\text{Ejemplo 4:}}$  Los artículos de cerámica utilizados sobre velas electricas sobrecargadas se rompen con diferentes presiones. Supongamos que los datos provienen de una distribución normal.\n",
        "\n",
        "La resistencia a la ruptura fue medida en una muestra de 100 artículos, y el promedio fue de $1750$ con un desviación estándar de 315.8\n",
        "\n",
        "**a)** Estimar con un nivel del confianza del $90\\%$ a la media poblacional de la presión de la ruptura.\n",
        "\n",
        "**b)** Estimar con un nivel del confianza del $90\\%$ a la varianza poblacional."
      ],
      "metadata": {
        "id": "m2A-U9RYllAX"
      }
    },
    {
      "cell_type": "code",
      "source": [
        "from scipy.stats import chi2\n",
        "# datos\n",
        "n = 100\n",
        "media_muestral = 1750\n",
        "desv_estandar_muestral = 315.8\n",
        "confianza = 0.90\n",
        "\n",
        "# a) Usar la normal ya que el tamaño de la muestra es grande\n",
        "error_est = desv_estandar_muestral / np.sqrt(n)\n",
        "error_est\n",
        "intervalo_media = st.norm.interval(confidence=confianza, loc = media_muestral, scale = error_est)\n",
        "print(f\"El intervalo de confianza del 90% es: {intervalo_media}\")\n",
        "\n",
        "# b) Intervalo de confianza para la varianza (usar chi-cuadrada)\n",
        "alpha = 1-confianza\n",
        "gl = n-1\n",
        "s2 = desv_estandar_muestral**2\n",
        "\n",
        "#Cuantiles de la chi-cuadrada\n",
        "chi2_inf = st.chi2.ppf(alpha / 2,df=gl)\n",
        "chi2_sup = st.chi2.ppf(1- alpha / 2,df=gl)\n",
        "\n",
        "# Intervalo de confianza\n",
        "intervalo_varianza = ((gl * s2) / chi2_sup, (gl * s2) / chi2_inf )\n",
        "print(f\"El intervalo de confianza del 90% es: {intervalo_varianza}\")\n",
        "\n",
        "#Otra forma\n",
        "chi2_low, chi2_high = chi2.interval(confianza,df=gl)\n",
        "intervalo_varianza1 = ((gl * s2) / chi2_high, (gl * s2) / chi2_low )\n",
        "print(f\"El intervalo de confianza del 90% es: {intervalo_varianza1}\")"
      ],
      "metadata": {
        "colab": {
          "base_uri": "https://localhost:8080/"
        },
        "id": "brNYUh7IltBz",
        "outputId": "b771c0d4-98d6-4573-c358-8a96679cff09"
      },
      "execution_count": 10,
      "outputs": [
        {
          "output_type": "stream",
          "name": "stdout",
          "text": [
            "El intervalo de confianza del 90% es: (np.float64(1698.0555224608725), np.float64(1801.9444775391275))\n",
            "El intervalo de confianza del 90% es: (np.float64(80123.48643850331), np.float64(128146.71537457063))\n",
            "El intervalo de confianza del 90% es: (np.float64(80123.48643850331), np.float64(128146.71537457063))\n"
          ]
        }
      ]
    },
    {
      "cell_type": "markdown",
      "source": [
        "$\\color{blue}{\\text{Ejemplo 5:}}$  El artículo *\"Evaluation of a Ventilation Strategy to Prevent Barotrauma in Patients at High Risk for Acute Respiratory Distress Syndrome\"* reportó sobre un experimento con 120 pacientes con anestesistas en cuidados intensivos (UCI), los cuales fueron divididos al azar en dos grupos, donde cada uno esta compuesto por 60 pacientes.\n",
        "\n",
        "- Grupo A: promedio de permanencia = 14.1 horas\n",
        "- Grupo B: promedio de permanencia = 17.5 horas\n",
        "- Desviación estándar en ambos = 5.1 hrs\n",
        "\n",
        "Encontrar un intervalo del $95\\%$ de confianza para la diferecia de medias poblacionales: $(\\mu_A - \\mu_B)$  "
      ],
      "metadata": {
        "id": "65_GCKCHlxv2"
      }
    },
    {
      "cell_type": "code",
      "source": [
        "#Datos\n",
        "n1 = 60\n",
        "n2 = 60\n",
        "media1 = 14.1\n",
        "media2 = 17.5\n",
        "sigma = 5.1\n",
        "confianza = 0.95\n",
        "alpha = 1-confianza\n",
        "#gl = n1 + n2 -2\n",
        "\n",
        "#valor critico\n",
        "z = st.norm.ppf(1 - alpha / 2)\n",
        "\n",
        "#Error estandar\n",
        "error_est = sigma * np.sqrt(1/n1 + 1/n2)\n",
        "dif_medias = media1 - media2\n",
        "margen_error = z *error_est\n",
        "\n",
        "lim_inf = dif_medias - margen_error\n",
        "lim_sup = dif_medias + margen_error\n",
        "print(f\"Diferencia de las medias: {dif_medias:.2f}\")\n",
        "print(f\"Intervalo de confianza del 95%: ({lim_inf:.2f},{lim_sup:.2f})\")"
      ],
      "metadata": {
        "colab": {
          "base_uri": "https://localhost:8080/"
        },
        "id": "gQdVRzSrl7E7",
        "outputId": "a9c83912-da50-40d1-e1b8-12a413dca90b"
      },
      "execution_count": 11,
      "outputs": [
        {
          "output_type": "stream",
          "name": "stdout",
          "text": [
            "Diferencia de las medias: -3.40\n",
            "Intervalo de confianza del 95%: (-5.22,-1.58)\n"
          ]
        }
      ]
    },
    {
      "cell_type": "markdown",
      "source": [],
      "metadata": {
        "id": "oOqF9aadl6Ga"
      }
    }
  ]
}
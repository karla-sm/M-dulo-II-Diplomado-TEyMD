{
  "nbformat": 4,
  "nbformat_minor": 0,
  "metadata": {
    "colab": {
      "provenance": [],
      "collapsed_sections": [
        "gvNT-ShD5IzV",
        "9Hpawcj35I70",
        "hM6UFzKH5JFI",
        "vpGIAk795JI9",
        "OLvJDf9E5JMo"
      ],
      "include_colab_link": true
    },
    "kernelspec": {
      "name": "python3",
      "display_name": "Python 3"
    },
    "language_info": {
      "name": "python"
    }
  },
  "cells": [
    {
      "cell_type": "markdown",
      "metadata": {
        "id": "view-in-github",
        "colab_type": "text"
      },
      "source": [
        "<a href=\"https://colab.research.google.com/github/karla-sm/M-dulo-II-Diplomado-TEyMD/blob/main/Trabajo_2_Equipo_5.ipynb\" target=\"_parent\"><img src=\"https://colab.research.google.com/assets/colab-badge.svg\" alt=\"Open In Colab\"/></a>"
      ]
    },
    {
      "cell_type": "markdown",
      "source": [
        "# <h1><center> **Facultad de Estudios Superiores Acatlán.** </center></h1>\n",
        "# <h3><center> **Metodos Estadisticos y Mineria de Datos** </center></h3>\n",
        "# <h4><center> **Modulo II** </center></h4>\n",
        "\n",
        "---\n",
        "\n",
        "# <center> *Ejercicios de Probabilidad* </center>\n",
        "\n",
        "---\n",
        "\n",
        "**Integrantes del Equipo 5:**\n",
        "\n",
        "  *   *Omar Misael Valero Silva*\n",
        "  *   *Karla Anahí Sánchez Morales*\n",
        "  *   *Karol Jacqueline Nolasco Reyes*\n",
        "  *   *David Mendieta Lopez*\n",
        "  *   *César Gabriel López López*"
      ],
      "metadata": {
        "id": "8Jo2RwdUu4t3"
      }
    },
    {
      "cell_type": "markdown",
      "source": [
        "## **$\\color{red}{\\text{Ejercicio 1.}}$**Verifica que, en efecto, la esperanza y varianza de una variable aleatoria uniforme.\n",
        "\n",
        "La esperanza se define como:\n",
        "\n",
        "\n",
        "$$\\mathbb{E}[X] = \\sum_{x=x_1}^{x_n} x P(X = x)$$\n",
        "\n",
        "Sustituyendo $\\mathbb{P}(X = x)$:\n",
        "\n",
        "$$\\mathbb{E}[X] = \\sum_{x=x_1}^{x_n} x \\frac{1}{x_n-x_1+1}.$$\n",
        "\n",
        "Factorizando la constante:\n",
        "\n",
        "$$\\begin{align*}\n",
        "\\mathbb{E}[X] &= \\frac{1}{x_n-x_1+1} \\sum_{x=x_1}^{x_n} x \\\\\n",
        "&= \\frac{1}{x_n-x_1+1}\\frac{(x_n-x_1+1)(x_1+x_n)}{2}. \\\\\n",
        "&= \\frac{x_1+x_n}{2}.\n",
        "\\end{align*}$$\n",
        "\n",
        "La varianza se define como:\n",
        "\n",
        "$$\n",
        "\\text{Var}(X) = E[X^2] - (E[X])^2.\n",
        "$$\n",
        "\n",
        "La esperanza es:\n",
        "\n",
        "$$\n",
        "E[X] = \\frac{x_1 + x_n}{2}.\n",
        "$$\n",
        "Para $\\mathbb{E}[X^2]$, usamos la fórmula de la suma de cuadrados:\n",
        "\n",
        "$$\n",
        "E[X^2] = \\frac{1}{x_n - x_1 + 1} \\sum_{x=x_1}^{x_n} x^2.\n",
        "$$\n",
        "\n",
        "Usando la identidad:\n",
        "\n",
        "$$\n",
        "\\sum_{k=1}^{m} k^2 = \\frac{m(m+1)(2m+1)}{6},\n",
        "$$\n",
        "\n",
        "con $m = x_n - x_1 + 1$, obtenemos:\n",
        "\n",
        "$$\n",
        "\\mathbb{E}[X^2] = \\frac{(x_n - x_1 + 2)(2x_n + 2x_1 + 3)}{6}.\n",
        "$$\n",
        "\n",
        "Sustituyendo en la varianza y simplificando:\n",
        "\n",
        "$$\n",
        "\\text{Var}(X) = \\frac{(x_n - x_1 + 1)^2 - 1}{12}.\n",
        "$$"
      ],
      "metadata": {
        "id": "qLW6I9qK49T3"
      }
    },
    {
      "cell_type": "markdown",
      "source": [],
      "metadata": {
        "id": "zKAa2OD29qqU"
      }
    },
    {
      "cell_type": "code",
      "source": [],
      "metadata": {
        "id": "T_WZembnV-ec"
      },
      "execution_count": null,
      "outputs": []
    },
    {
      "cell_type": "markdown",
      "source": [
        "## **$\\color{red}{\\text{Ejercicio 2.}}$**"
      ],
      "metadata": {
        "id": "gvNT-ShD5IzV"
      }
    },
    {
      "cell_type": "markdown",
      "source": [
        ":$\\color{red}{\\text{Ejercicio 2.}}$ Calcular la esperanza y varianza.    \n",
        "\n",
        "Supongamos que nos interesa calcular la probabilidad de que el premio sea mayor a $\\$80$, entonces\n",
        "$$ \\mathbb{P}(X>80) = \\sum_{k=81}^{100} \\frac{1}{100} = \\frac{20}{100} = 0.2 $$"
      ],
      "metadata": {
        "id": "-JMC2FajUCqL"
      }
    },
    {
      "cell_type": "code",
      "source": [
        "import numpy as np\n",
        "\n",
        "# Valores posibles de la variable aleatoria (1 a 100)\n",
        "valores = np.arange(1, 101)\n",
        "\n",
        "# Probabilidades uniformes (1/100 para cada valor)\n",
        "probabilidades = np.ones(100) / 100\n",
        "\n",
        "# Cálculo de la esperanza (media)\n",
        "esperanza = np.sum(valores * probabilidades)\n",
        "\n",
        "# Cálculo de la varianza\n",
        "esperanza_cuadrados = np.sum(valores**2 * probabilidades)\n",
        "varianza = esperanza_cuadrados - esperanza**2\n",
        "\n",
        "# Mostramos los resultados\n",
        "print(f\"Esperanza (E[X]): {esperanza}\")\n",
        "print(f\"Varianza (Var[X]): {varianza}\")\n"
      ],
      "metadata": {
        "colab": {
          "base_uri": "https://localhost:8080/"
        },
        "id": "d3XV3ca9Wcr4",
        "outputId": "6a9c416f-e84a-4ade-9234-11ecaa58df45"
      },
      "execution_count": null,
      "outputs": [
        {
          "output_type": "stream",
          "name": "stdout",
          "text": [
            "Esperanza (E[X]): 50.5\n",
            "Varianza (Var[X]): 833.2500000000005\n"
          ]
        }
      ]
    },
    {
      "cell_type": "markdown",
      "source": [
        "## **$\\color{red}{\\text{Ejercicio 3.}}$**"
      ],
      "metadata": {
        "id": "9Hpawcj35I70"
      }
    },
    {
      "cell_type": "markdown",
      "source": [
        "Vemos el siguiente **ejemplo:**\n",
        "\n",
        "Supongamos que el número de accidentes que ocurre en un punto tiene distribución Poisson con parámetro $\\lambda=2$, entonces:\n",
        "\n",
        "- ¿Cuál es la probabilidad dr que en un día ocurran más de 2 accidentes?\n",
        "\n",
        "$$ \\begin{align*} \\mathbb{P}(X>2)=\n",
        "&= 1-\\mathbb{P}(X\\le2)\\\\\n",
        "&= 1-[\\mathbb{P}(X=0) + \\mathbb{P}(X=1) + \\mathbb{P}(X=2)]\\\\\n",
        "&= 1-\\left[ e^{-2}[1+2+2] = 1-5e{-2}\\frac{2^1}{1!} + e^{-2}\\frac{2^2}{2!}\\right]\\\\\n",
        "&= 1-e^{-2}{1+2+2} = 1-5e^{-2} = 0.3233\n",
        " \\end{align*}$$\n",
        "\n",
        "- ¿Cuál es la probabilidad de que ocurran más de dos accidentes sabiendo que por lo menos ocurre uno?\n",
        "\n",
        "  $$ \\begin{align*} \\mathbb{P}(X>2 \\mid X \\ge 1)\n",
        "  &= \\frac{\\mathbb{P}(\\{X>2\\} \\cap \\{X \\ge 1\\} )}{\\mathbb{P}\\{X \\ge 1)\\}} \\\\\n",
        "  &= \\frac{\\mathbb{P}(\\{X>2\\})}{\\mathbb{P}\\{X \\ge 1)\\}} \\\\\n",
        "  & = \\frac{.3233}{1-\\mathbb{P}(X<1)} = \\frac{0.3233}{1-e^{-2}} \\frac{0.3233}{.8646} = 0.3739\n",
        "  \\end{align*} $$\n",
        "\n",
        "Usando el atributo ***.cdf***; caclula las probabilidades anteriores."
      ],
      "metadata": {
        "id": "h4RaTLzYfA4x"
      }
    },
    {
      "cell_type": "code",
      "source": [
        "from scipy.stats import poisson\n",
        "lambda_value = 2\n",
        "prob_mayorq_2= 1- poisson.cdf(2, lambda_value)\n",
        "print(f\"P(X > 2): {prob_mayorq_2}\")\n",
        "# P(X >= 1) = 1 - P(X < 1) = 1 - P(X = 0)\n",
        "prob_X_mayor_igual_1 = 1 - poisson.pmf(0, lambda_value)\n",
        "\n",
        "# P(X > 2 | X >= 1) = P(X > 2 y X >= 1) / P(X >= 1)\n",
        "# Como X > 2 implica X >= 1, entonces P(X > 2 y X >= 1) = P(X > 2)\n",
        "prob_X_mayor_2_dado_X_mayor_igual_1 = prob_mayorq_2 / prob_X_mayor_igual_1\n",
        "print(f\"P(X > 2 | X >= 1): {prob_X_mayor_2_dado_X_mayor_igual_1}\")"
      ],
      "metadata": {
        "colab": {
          "base_uri": "https://localhost:8080/"
        },
        "id": "ebAEmI8kfVlp",
        "outputId": "e588da71-3419-4b87-ec90-431531b6a7a4"
      },
      "execution_count": null,
      "outputs": [
        {
          "output_type": "stream",
          "name": "stdout",
          "text": [
            "P(X > 2): 0.3233235838169366\n",
            "P(X > 2 | X >= 1): 0.37392942900133747\n"
          ]
        }
      ]
    },
    {
      "cell_type": "markdown",
      "source": [
        "## **$\\color{red}{\\text{Ejercicio 4.}}$**"
      ],
      "metadata": {
        "id": "VQTug2aY5JA_"
      }
    },
    {
      "cell_type": "markdown",
      "source": [
        "Haciendo uso de la **Distribucion Binomial Negativa**; resuelva la siguiente situacion...\n",
        "\n",
        "Un examen de Estadística consta de 20 preguntas tipo test y se conoce de experiencias anteriores que un alumno tiene probabilidad 0.7 de contestar bien cada pregunta. Obtener:\n",
        "\n",
        "- La probabilidad de que la primera pregunta que contesta bien sea la cuarta.\n",
        "\n",
        "- Sabiendo que para aprobar el examen es necesario contestar bien a 10 preguntas, ¿cuál es la probabilidad de que apruebe al contestar la pregunta duodécima?"
      ],
      "metadata": {
        "id": "q3DXl6zV9r9D"
      }
    },
    {
      "cell_type": "markdown",
      "source": [
        "Antes de diseccionar los inciso; hay que recordar como es la definicion de $X \\sim BinNeg(r,p)$:\n",
        "\n",
        "*   **Distribucion de la BInomial Negativa**\n",
        "\n",
        "$$ \\begin{equation*}\n",
        "      f_{X}(x) = \\begin{cases}\n",
        "                    \\binom{x-1}{r-1}p^{r}(1-p)^{x-r} &\\quad \\text{si } x=r,r+1,\\dots \\\\\n",
        "                    \\qquad 0 &\\quad \\text{en otro caso}  \n",
        "                  \\end{cases}\n",
        "   \\end{equation*}$$\n",
        "\n",
        "Donde $r$ sera el numero de exitos *(cuantas preguntas son correctas)* y $p$ la probabilidad de exito *(para responder la corretamente una pregunta)*.\n",
        "\n",
        "Esta se encarga de modelar el numero de ensayos necesarios para llegar al r-esimo exito."
      ],
      "metadata": {
        "id": "o3g35l2X4AMw"
      }
    },
    {
      "cell_type": "markdown",
      "source": [
        "Para la primer inciso solo es necesario ver $\\mathbb{P}(X = 4)$ tal que $X \\sim BinNeg(r = 1,p = 0.7)$\n",
        "\n",
        "$$ \\mathbb{P}(X = 4) = f_{X}(4) = \\binom{4 - 1}{1 - 1} p^1 (1 - p)^{4 - 1} = \\frac{3!}{3! * 0!} (.7)^1 (.3)^{3} $$"
      ],
      "metadata": {
        "id": "SX8_J_boOir2"
      }
    },
    {
      "cell_type": "code",
      "source": [
        "from scipy.special import comb as combinatoria    # Importamos la funcion \"comb\" y renombramos\n",
        "\n",
        "Parte_1 = combinatoria(3, 0) * (0.7**1) * (0.3**3)\n",
        "print(f\"La probabilidad de la cuarta pregunta sea es: {Parte_1:.4f}\")"
      ],
      "metadata": {
        "colab": {
          "base_uri": "https://localhost:8080/"
        },
        "id": "wjMf7NdM3_qf",
        "outputId": "cbca6b5b-8deb-4f08-db99-98fa75951fd5"
      },
      "execution_count": null,
      "outputs": [
        {
          "output_type": "stream",
          "name": "stdout",
          "text": [
            "La probabilidad de la cuarta pregunta sea es: 0.0189\n"
          ]
        }
      ]
    },
    {
      "cell_type": "markdown",
      "source": [
        "Para el segundo es similar al anterior inciso con $X \\sim BinNeg(r = 10,p = 0.7)$\n",
        "\n",
        "$$ \\mathbb{P}(X = 12) = f_{X}(4) = \\binom{12 - 1}{10 - 1} (0.7)^{10} (0.3)^{12 - 10} $$"
      ],
      "metadata": {
        "id": "-kBP0BuDIR5W"
      }
    },
    {
      "cell_type": "code",
      "source": [
        "from scipy.stats import nbinom  # Importamos la distribución binomial negativa\n",
        "\n",
        "# indicamos los parametros para nuestra distribucion\n",
        "r = 10\n",
        "p = 0.7\n",
        "k = 12\n",
        "\n",
        "# Calculamos P(X = 4) usando la distribución binomial negativa\n",
        "probabilidad = nbinom.pmf(k - r, r, p)\n",
        "\n",
        "# Mostrar el resultado con 4 decimales\n",
        "print(f\"P(X = 4) = {probabilidad:.4f}\")"
      ],
      "metadata": {
        "colab": {
          "base_uri": "https://localhost:8080/"
        },
        "id": "xTEBRvHgAhfk",
        "outputId": "939e4965-38c2-4353-84b1-6e73e3678036"
      },
      "execution_count": null,
      "outputs": [
        {
          "output_type": "stream",
          "name": "stdout",
          "text": [
            "P(X = 4) = 0.1398\n"
          ]
        }
      ]
    },
    {
      "cell_type": "markdown",
      "source": [
        "## **Ejercicio 5**"
      ],
      "metadata": {
        "id": "hM6UFzKH5JFI"
      }
    },
    {
      "cell_type": "markdown",
      "source": [
        " Investigue sobre el problema de la caja de cerillos de Banach y explique\n",
        "\n",
        "---\n",
        "\n",
        "su solución."
      ],
      "metadata": {
        "id": "vYlmOY0t9sl8"
      }
    },
    {
      "cell_type": "markdown",
      "source": [
        "Problema de Banach con la caja de cerillos: Supongamos que un matemático lleva siempre dos cajas de cerillos: una en el bolsillo izquierdo y otra en el derecho. Cada vez que necesita un cerillo, tiene la misma probabilidad de sacarlo de cualquiera de los dos bolsillos. Supongamos que mete la mano en el bolsillo y descubre por primera vez que la caja que ha sacado está vacía. Si se supone que cada una de las cajas contenía originalmente $n$ cerillas, ¿cuál es la probabilidad de que haya exactamente $k$ cerillos en la otra caja? En $n$ emparejamientos, ¿cuál es la probabilidad de que haya exactamente $k$ emparejamientos en la otra caja?"
      ],
      "metadata": {
        "id": "tk4SuuhcjvRY"
      }
    },
    {
      "cell_type": "code",
      "source": [
        "import numpy as np\n",
        "import matplotlib.pyplot as plt\n",
        "\n",
        "# Función para simular el problema de la caja de cerillos de Banach\n",
        "def simulacion_banach(N, num_simulaciones=10000):\n",
        "    resultados = []\n",
        "\n",
        "    for _ in range(num_simulaciones):\n",
        "        caja_izq, caja_der = N, N\n",
        "        while caja_izq > 0 and caja_der > 0:\n",
        "            if np.random.rand() < 0.5:\n",
        "                caja_izq -= 1\n",
        "            else:\n",
        "                caja_der -= 1\n",
        "        resultados.append(max(caja_izq, caja_der))\n",
        "\n",
        "    return resultados\n",
        "\n",
        "# Parámetro inicial (cantidad de cerillos en cada caja)\n",
        "N = 10\n",
        "\n",
        "# Simulación\n",
        "resultados = simulacion_banach(N)\n",
        "\n",
        "# Visualización de los resultados\n",
        "plt.hist(resultados, bins=np.arange(-0.5, N+1.5, 1), density=True, edgecolor='black', alpha=0.7)\n",
        "plt.xlabel(\"Cerillos restantes en la caja no vacía\")\n",
        "plt.ylabel(\"Frecuencia relativa\")\n",
        "plt.title(f\"Distribución del número de cerillos restantes (N={N})\")\n",
        "plt.xticks(range(N+1))\n",
        "plt.grid(axis='y', linestyle='--', alpha=0.7)\n",
        "plt.show()\n",
        "\n",
        "# Cálculo del valor esperado\n",
        "valor_esperado = np.mean(resultados)\n",
        "print(f\"Valor esperado de cerillos restantes: {valor_esperado:.2f}\")"
      ],
      "metadata": {
        "id": "_do9g--ljWry"
      },
      "execution_count": null,
      "outputs": []
    },
    {
      "cell_type": "markdown",
      "source": [
        "## **$\\color{red}{\\text{Ejercicio 6.}}$**"
      ],
      "metadata": {
        "id": "vpGIAk795JI9"
      }
    },
    {
      "cell_type": "markdown",
      "source": [
        "Replicar la grafica de la función de densidad para $X \\sim  Hiper(n, N, m)$"
      ],
      "metadata": {
        "id": "4xRjLwC6qLqu"
      }
    },
    {
      "cell_type": "markdown",
      "source": [
        "Recordemos un poco de como se definia dicha Variable Aleatoria...\n",
        "\n",
        "**Variable aleatoria Hipergeométrica con parámetros $n,N,m$**\n",
        "\n",
        "Supongamos que se elige, sin reemplazo, una muestra de tamaño $n$ de una urna que contiene $N$ bolas, de las cuales $m$ son rojas y $N-m$ son verdes. Sea $X$ el número de bolas rojas seleccionadas, entonces su función de masa de probabilidades está dada por:\n",
        "\n",
        "$$ f_{X}(x)=\n",
        "\t\\frac{\\binom{m}{x}\\binom{N-m}{n-x}}{\\binom{N}{n}} \\quad \\text{si } x=0,1,\\dots, n $$\n",
        "\n",
        "**Notación.** $X\\sim \\text{Hiper}(n,N,m)$.\n",
        "\n",
        "Se tiene que la esperanza es:\n",
        "\n",
        "$$ \\mathbb{E}[X]=\\frac{nm}{N}$$\n",
        "\n",
        "y su varianza es de:\n",
        "\n",
        "$$ \\text{Var}[X]=\\frac{nm}{N}\\left[\\frac{(n-1)(m-1)}{N-1}+1-\\frac{nm}{N} \\right].$$\n",
        "\n",
        "**Nota.** Si $x\\leq n$  y  $X\\sim \\text{Hiper}(n,N,m)$,  cuando $p=\\frac{m}{N}$ y $m,N$  son muy grandes con respecto a $n$ y $x$:\n",
        "\n",
        "$$\\mathbb{P}(X=x)\\approx \\binom{n}{x}p^{x}(1-p)^{n-x}.$$"
      ],
      "metadata": {
        "id": "uIZV9fjnrhuF"
      }
    },
    {
      "cell_type": "code",
      "source": [
        "import numpy as np\n",
        "import matplotlib.pyplot as plt\n",
        "from scipy.stats import hypergeom\n",
        "\n",
        "# Parámetros\n",
        "N = 50   # Total de bolas\n",
        "m = 20   # Número de bolas rojas\n",
        "n = 10   # Tamaño de la muestra\n",
        "\n",
        "# Valores posibles de X\n",
        "x = np.arange(0, min(m, n) + 1)\n",
        "\n",
        "# Función de masa de probabilidad\n",
        "pmf_hyper = hypergeom.pmf(x, N, m, n)\n",
        "\n",
        "# Graficar\n",
        "plt.figure(figsize=(8, 5))\n",
        "plt.bar(x, pmf_hyper, color='blue', alpha=0.7, label=\"PMF Hipergeométrica\")\n",
        "plt.xlabel(\"Número de bolas rojas seleccionadas (X)\")\n",
        "plt.ylabel(\"Probabilidad P(X = x)\")\n",
        "plt.title(\"Función de Masa de Probabilidad de la Distribución Hipergeométrica\")\n",
        "plt.xticks(x)\n",
        "plt.legend()\n",
        "plt.grid(axis='y', linestyle='--', alpha=0.6)"
      ],
      "metadata": {
        "id": "-xvDKDFBqK56"
      },
      "execution_count": null,
      "outputs": []
    },
    {
      "cell_type": "markdown",
      "source": [
        "## **$\\color{red}{\\text{Ejercicio 7.}}$**"
      ],
      "metadata": {
        "id": "OLvJDf9E5JMo"
      }
    },
    {
      "cell_type": "markdown",
      "source": [
        "Una compañía petrolera realiza un estudio geológico que indica que un pozo petrolero exploratorio debería tener un 20% de posibilidades de encontrar petróleo.\n",
        "\n",
        "- ¿Cuál es la probabilidad de que el primer pozo se produzca en el tercer pozo perforado?\n",
        "\n",
        "- ¿Cuál es la probabilidad de que el tercer pozo se produzca en el séptimo pozo perforado?\n",
        "\n",
        "- ¿Cuál es la media y la varianza del número de pozos que se deben perforar si la compañía petrolera quiere establecer tres pozos productores?"
      ],
      "metadata": {
        "id": "aAjo3ZU1VE1i"
      }
    },
    {
      "cell_type": "code",
      "source": [
        "import math\n",
        "\n",
        "p = 0.2  # Probabilidad de encontrar petróleo\n",
        "q = 1 - p  # Probabilidad de no encontrar petróleo\n",
        "\n",
        "# 1. Probabilidad de que el primer pozo se produzca en el tercer pozo perforado (geométrica)\n",
        "def probabilidad_geométrica(k, p):\n",
        "    return (1 - p)**(k - 1) * p\n",
        "\n",
        "k1 = 3\n",
        "prob_1er_exito_3er_poz = probabilidad_geométrica(k1, p)\n",
        "print(f\"Probabilidad de que el primer pozo se produzca en el tercer pozo: {prob_1er_exito_3er_poz:.4f}\")\n",
        "\n",
        "# 2. Probabilidad de que el tercer pozo se produzca en el séptimo pozo perforado (binomial negativa)\n",
        "def probabilidad_binomial_negativa(k, r, p):\n",
        "    coef_binom = math.comb(k - 1, r - 1)  # Coeficiente binomial\n",
        "    return coef_binom * (1 - p)**(k - r) * p**r\n",
        "\n",
        "k2 = 7\n",
        "r2 = 3\n",
        "prob_3er_exito_7mo_poz = probabilidad_binomial_negativa(k2, r2, p)\n",
        "print(f\"Probabilidad de que el tercer pozo se produzca en el séptimo pozo: {prob_3er_exito_7mo_poz:.4f}\")\n",
        "\n",
        "# 3. Media y varianza del número de pozos para establecer tres pozos productores (binomial negativa)\n",
        "r3 = 3  # Número de éxitos deseados\n",
        "media = r3 / p\n",
        "varianza = r3 * (1 - p) / (p**2)\n",
        "\n",
        "print(f\"Media del número de pozos para 3 éxitos: {media}\")\n",
        "print(f\"Varianza del número de pozos para 3 éxitos: {varianza}\")\n"
      ],
      "metadata": {
        "id": "qKOvHxL3W7bE"
      },
      "execution_count": null,
      "outputs": []
    }
  ]
}